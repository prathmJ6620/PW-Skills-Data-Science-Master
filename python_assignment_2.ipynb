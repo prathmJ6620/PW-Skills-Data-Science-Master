{
  "nbformat": 4,
  "nbformat_minor": 0,
  "metadata": {
    "colab": {
      "provenance": []
    },
    "kernelspec": {
      "name": "python3",
      "display_name": "Python 3"
    },
    "language_info": {
      "name": "python"
    }
  },
  "cells": [
    {
      "cell_type": "markdown",
      "source": [
        "#Q1. How do you comment code in Python? What are the different types of comments?"
      ],
      "metadata": {
        "id": "9h25caumYEZQ"
      }
    },
    {
      "cell_type": "markdown",
      "source": [
        "In Python, you can add comments to your code to make it more understandable and maintainable. Comments are lines of text in your code that are not executed by the Python interpreter, serving only as notes for humans reading the code. Here's how you can add comments in Python:\n",
        "\n",
        "Single-line comments: Use the # symbol to start a single-line comment. Anything after # on the same line is ignored by Python.\n",
        "\n",
        "Multi-line comments: Python doesn't have a built-in syntax for multi-line comments like some other languages do. However, you can use triple quotes (\"\"\" or ''') to create multi-line strings, which can effectively serve as multi-line comments. While this won't be ignored by Python, it effectively achieves the purpose of commenting out multiple lines of code.\n",
        "\n",
        "Remember, the main difference between single-line and multi-line comments in Python is that single-line comments are simply lines prefixed with #, while multi-line comments are enclosed within triple quotes.\n",
        "\n",
        "In practice, single-line comments are more commonly used due to their simplicity and readability. Multi-line comments are less common but can be useful for temporarily commenting out large sections of code.\n",
        "\n",
        "It's worth noting that good code should be self-explanatory as much as possible, and comments should be used sparingly, mainly for clarification of complex algorithms, tricky parts, or to provide context where necessary. Over-commenting can clutter the code and make it harder to read."
      ],
      "metadata": {
        "id": "RSXQih9nYEcC"
      }
    },
    {
      "cell_type": "markdown",
      "source": [
        "#Q2. What are variables in Python? How do you declare and assign values to variables?"
      ],
      "metadata": {
        "id": "o5M2DSAXYEfX"
      }
    },
    {
      "cell_type": "markdown",
      "source": [
        "\n",
        "In Python, variables are used to store data values. They serve as named references to objects in memory. Variables allow programmers to manipulate data and perform operations on them. Here's how you declare and assign values to variables in Python:\n",
        "\n",
        "Variable Declaration: In Python, you don't need to declare variables explicitly with a type. You simply assign a value to a variable, and Python dynamically creates the variable for you.\n",
        "\n",
        "Variable Assignment: To assign a value to a variable, you use the = operator.\n",
        "\n"
      ],
      "metadata": {
        "id": "MXCZ9I29ZX0g"
      }
    },
    {
      "cell_type": "markdown",
      "source": [
        "#Q3. How do you convert one data type to another in Python?"
      ],
      "metadata": {
        "id": "3e-ff8sPZXm9"
      }
    },
    {
      "cell_type": "markdown",
      "source": [
        "In Python, you can convert one data type to another using type conversion functions or constructors. Here are some common methods to perform type conversion:\n",
        "\n",
        "Implicit Type Conversion (Coercion):\n",
        "Python automatically converts data types in expressions and operations if it makes sense to do so without losing information or precision. For example, when you add an integer to a float, Python will automatically convert the integer to a float before performing the addition.\n",
        "\n",
        "Explicit Type Conversion (Type Casting):\n",
        "You can explicitly convert one data type to another using predefined functions or constructors. Here are some common type conversion functions:\n",
        "\n",
        "int(): Converts a value to an integer.\n",
        "\n",
        "float(): Converts a value to a float.\n",
        "\n",
        "str(): Converts a value to a string.\n",
        "\n",
        "bool(): Converts a value to a boolean.\n",
        "\n"
      ],
      "metadata": {
        "id": "f56bjxXUZXjg"
      }
    },
    {
      "cell_type": "markdown",
      "source": [
        "#Q4. How do you write and execute a Python script from the command line?"
      ],
      "metadata": {
        "id": "92Gbjrf1ax9b"
      }
    },
    {
      "cell_type": "markdown",
      "source": [
        "\n",
        "To write and execute a Python script from the command line:\n",
        "\n",
        "Write your Python script and save it with a .py extension.\n",
        "\n",
        "Open the command line interface.\n",
        "\n",
        "Navigate to the directory containing your Python script.\n",
        "\n",
        "Execute the script using python followed by the script name:"
      ],
      "metadata": {
        "id": "o8UdaCo4ax58"
      }
    },
    {
      "cell_type": "markdown",
      "source": [
        "#Q5. Given a list my_list = [1, 2, 3, 4, 5], write the code to slice the list and obtain the sub-list [2, 3]."
      ],
      "metadata": {
        "id": "UhSBrhf-ax2s"
      }
    },
    {
      "cell_type": "code",
      "source": [
        "my_list = [1,2,3,4,5]\n",
        "sub_list= my_list[1:3]\n",
        "print(sub_list)"
      ],
      "metadata": {
        "colab": {
          "base_uri": "https://localhost:8080/"
        },
        "id": "C9JqIhB1Y7NQ",
        "outputId": "c1155cab-77e3-470f-c2a5-f727ba6df7ce"
      },
      "execution_count": 4,
      "outputs": [
        {
          "output_type": "stream",
          "name": "stdout",
          "text": [
            "[2, 3]\n"
          ]
        }
      ]
    },
    {
      "cell_type": "markdown",
      "source": [
        "#Q6. What is a complex number in mathematics, and how is it represented in Python?"
      ],
      "metadata": {
        "id": "Fw0Y9-hvcAji"
      }
    },
    {
      "cell_type": "markdown",
      "source": [
        "\n",
        "In mathematics, a complex number is a number that can be expressed in the form a + bi, where a and b are real numbers, and i is the imaginary unit, which satisfies the equation i^2 = -1.\n",
        "\n",
        "In this expression:\n",
        "\n",
        "a is the real part of the complex number.\n",
        "b is the imaginary part of the complex number.\n",
        "i is the imaginary unit, representing the square root of -1.\n",
        "Complex numbers extend the concept of real numbers to include solutions to equations that have no real solutions, such as the square root of a negative number.\n",
        "\n",
        "In Python, complex numbers are represented using the complex() function or by directly specifying the real and imaginary parts with the j suffix. Here are some examples of complex number representation in Python:\n",
        "\n",
        "You can perform arithmetic operations on complex numbers in Python, such as addition, subtraction, multiplication, division, and exponentiation, using standard arithmetic operators. Python's built-in cmath module provides functions to perform common operations on complex numbers, such as computing the magnitude, phase, conjugate, etc. Complex numbers in Python are a fundamental data type and are commonly used in various scientific and engineering applications.\n",
        "\n",
        "\n",
        "\n",
        "\n",
        "\n",
        "\n"
      ],
      "metadata": {
        "id": "HnzjlGvTcAgM"
      }
    },
    {
      "cell_type": "markdown",
      "source": [
        "#Q7. What is the correct way to declare a variable named age and assign the value 25 to it?"
      ],
      "metadata": {
        "id": "evb1pDlacAdZ"
      }
    },
    {
      "cell_type": "code",
      "source": [
        "age = 25\n",
        "age"
      ],
      "metadata": {
        "colab": {
          "base_uri": "https://localhost:8080/"
        },
        "id": "X5pfYFFSb_7w",
        "outputId": "6a658464-cff0-4297-e192-df4cef2605ea"
      },
      "execution_count": 5,
      "outputs": [
        {
          "output_type": "execute_result",
          "data": {
            "text/plain": [
              "25"
            ]
          },
          "metadata": {},
          "execution_count": 5
        }
      ]
    },
    {
      "cell_type": "markdown",
      "source": [
        "#Q8. Declare a variable named price and assign the value 9.99 to it. What data type does this variable belong to?"
      ],
      "metadata": {
        "id": "rMPGFAYDdSy_"
      }
    },
    {
      "cell_type": "code",
      "source": [
        "price = 9.99\n",
        "print(price,type(price))\n"
      ],
      "metadata": {
        "colab": {
          "base_uri": "https://localhost:8080/"
        },
        "id": "jXmutN8TdWxW",
        "outputId": "6e9a5822-baf4-493c-9df7-8b99de06c083"
      },
      "execution_count": 9,
      "outputs": [
        {
          "output_type": "stream",
          "name": "stdout",
          "text": [
            "9.99 <class 'float'>\n"
          ]
        }
      ]
    },
    {
      "cell_type": "markdown",
      "source": [
        "#Q9. Create a variable named name and assign your full name to it as a string. How would you print the value of this variable?"
      ],
      "metadata": {
        "id": "4Myx8sqtdSva"
      }
    },
    {
      "cell_type": "code",
      "source": [
        "name = 'Prathmesh Jadhav'\n",
        "print(name)"
      ],
      "metadata": {
        "colab": {
          "base_uri": "https://localhost:8080/"
        },
        "id": "mCbhrkXleNwl",
        "outputId": "78702f35-d583-4fbc-858e-b023bcdd6994"
      },
      "execution_count": 10,
      "outputs": [
        {
          "output_type": "stream",
          "name": "stdout",
          "text": [
            "Prathmesh Jadhav\n"
          ]
        }
      ]
    },
    {
      "cell_type": "markdown",
      "source": [
        "#Given the string \"Hello, World!\", extract the substring \"World\"."
      ],
      "metadata": {
        "id": "7aVD9O4Dea9h"
      }
    },
    {
      "cell_type": "code",
      "source": [
        "x = \"Hello, World!\"\n",
        "print(x[7:12])"
      ],
      "metadata": {
        "colab": {
          "base_uri": "https://localhost:8080/"
        },
        "id": "v5tXIv-deVQV",
        "outputId": "93e9fd9a-9c9a-4c7c-c0cc-9cd97aee0d1a"
      },
      "execution_count": 12,
      "outputs": [
        {
          "output_type": "stream",
          "name": "stdout",
          "text": [
            "World\n"
          ]
        }
      ]
    },
    {
      "cell_type": "markdown",
      "source": [
        "#Q11. Create a variable named \"is_student\" and assign it a boolean value indicating whether you are currently a student or not."
      ],
      "metadata": {
        "id": "C2vYXT60fJRN"
      }
    },
    {
      "cell_type": "code",
      "source": [
        "is_student = False\n",
        "is_student"
      ],
      "metadata": {
        "colab": {
          "base_uri": "https://localhost:8080/"
        },
        "id": "KEi8CceLfPUE",
        "outputId": "d9ce0f60-21f3-43c2-ffc9-5d7c1c2d652a"
      },
      "execution_count": 13,
      "outputs": [
        {
          "output_type": "execute_result",
          "data": {
            "text/plain": [
              "False"
            ]
          },
          "metadata": {},
          "execution_count": 13
        }
      ]
    }
  ]
}