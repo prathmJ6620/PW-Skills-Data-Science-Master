{
  "nbformat": 4,
  "nbformat_minor": 0,
  "metadata": {
    "colab": {
      "provenance": []
    },
    "kernelspec": {
      "name": "python3",
      "display_name": "Python 3"
    },
    "language_info": {
      "name": "python"
    }
  },
  "cells": [
    {
      "cell_type": "markdown",
      "source": [
        "#Q1. Explain Class and Object with respect to Object-Oriented Programming. Give a suitable example."
      ],
      "metadata": {
        "id": "3HWC6W2Tbp2G"
      }
    },
    {
      "cell_type": "markdown",
      "source": [
        "==>\n",
        "In object-oriented programming (OOP), a class is a blueprint for creating objects (instances). It defines the attributes (data) and methods (functions) that will be associated with the objects of that class. An object, on the other hand, is an instance of a class. It represents a specific entity or concept and has its own unique set of data and behaviors.\n"
      ],
      "metadata": {
        "id": "xpI0MzgQbp5r"
      }
    },
    {
      "cell_type": "code",
      "source": [
        "##creating a car class\n",
        "class car:\n",
        "  def __init__(self,make,model,year):\n",
        "    self.make = make\n",
        "    self.model = model\n",
        "    self.year = year\n",
        "\n",
        "  def describe(self):\n",
        "    return f\"{self.make} {self.model} {self.year}\"\n",
        "\n",
        "my_car = car(\"HYUNDAI\",\"VERNA\",2023)\n",
        "print(my_car.describe())\n",
        "\n"
      ],
      "metadata": {
        "colab": {
          "base_uri": "https://localhost:8080/"
        },
        "id": "-9-2er7hcjMX",
        "outputId": "a0471085-501b-40a7-d770-5b1a385f6e33"
      },
      "execution_count": 8,
      "outputs": [
        {
          "output_type": "stream",
          "name": "stdout",
          "text": [
            "HYUNDAI VERNA 2023\n"
          ]
        }
      ]
    },
    {
      "cell_type": "markdown",
      "source": [
        "#Q2. Name the four pillars of OOPs."
      ],
      "metadata": {
        "id": "bwIFhosUgF1-"
      }
    },
    {
      "cell_type": "markdown",
      "source": [
        "\n",
        "The four pillars of object-oriented programming (OOP) are:\n",
        "\n",
        "Encapsulation: Encapsulation is the bundling of data (attributes) and methods (functions) that operate on the data into a single unit (class). It allows for data hiding, meaning that the internal representation of an object is hidden from the outside world, and only the necessary information is exposed.\n",
        "\n",
        "Abstraction: Abstraction is the concept of hiding the complex implementation details and showing only the essential features of the object. It focuses on what an object does rather than how it does it, allowing programmers to work at a higher level of understanding.\n",
        "\n",
        "Inheritance: Inheritance is the mechanism by which a class can inherit properties and behavior from another class. It promotes code reusability and establishes a relationship between classes where one class (subclass or derived class) inherits attributes and methods from another class (superclass or base class).\n",
        "\n",
        "Polymorphism: Polymorphism allows objects of different classes to be treated as objects of a common superclass. It enables a single interface to represent different data types or objects and allows for methods to be written that can work with objects of any of those types. Polymorphism can take various forms, such as method overloading and method overriding.\n",
        "\n",
        "These four pillars provide a foundation for creating well-structured, modular, and maintainable code in object-oriented programming languages."
      ],
      "metadata": {
        "id": "gSilPL_9fF7V"
      }
    },
    {
      "cell_type": "markdown",
      "source": [
        "#Q3. Explain why the __init__() function is used. Give a suitable example."
      ],
      "metadata": {
        "id": "IWI8EcLtfF35"
      }
    },
    {
      "cell_type": "markdown",
      "source": [
        "In Python, the __init__() function is a special method (also known as a constructor) used to initialize newly created objects. It is automatically called when a new instance of a class is created. The primary purpose of the __init__() method is to set up the initial state of an object by assigning values to its attributes."
      ],
      "metadata": {
        "id": "pFzgjvmNfF1L"
      }
    },
    {
      "cell_type": "code",
      "source": [
        "class person:\n",
        "  def __init__(self,name,age):\n",
        "    self.name = name\n",
        "    self.age = age\n",
        "\n",
        "  def describe(self):\n",
        "    return f\"my name is {self.name} and I am {self.age} year old\"\n",
        "\n",
        "my_name =  person(\"prathmesh\",24)\n",
        "print(my_name.describe())"
      ],
      "metadata": {
        "colab": {
          "base_uri": "https://localhost:8080/"
        },
        "id": "epYh-rWvdZbC",
        "outputId": "de4a067d-0899-4679-c1bb-0aab2ee33810"
      },
      "execution_count": 14,
      "outputs": [
        {
          "output_type": "stream",
          "name": "stdout",
          "text": [
            "my name is prathmesh and I am 24 year old\n"
          ]
        }
      ]
    },
    {
      "cell_type": "markdown",
      "source": [
        "##Q4. Why self is used in OOPs?"
      ],
      "metadata": {
        "id": "ArXah7kZi4BP"
      }
    },
    {
      "cell_type": "markdown",
      "source": [
        "In object-oriented programming (OOP), self is a convention used to refer to the current instance of a class within its methods. It acts as a reference to the instance itself, allowing methods to access and manipulate the object's attributes and methods."
      ],
      "metadata": {
        "id": "wFO3qTePjHyW"
      }
    },
    {
      "cell_type": "markdown",
      "source": [
        "#Q5. What is inheritance? Give an example for each type of inheritance."
      ],
      "metadata": {
        "id": "8zBzaqc5kGt2"
      }
    },
    {
      "cell_type": "markdown",
      "source": [
        "Inheritance is a fundamental concept in object-oriented programming (OOP) that allows a new class (subclass or derived class) to inherit properties and behaviors (attributes and methods) from an existing class (superclass or base class). This promotes code reusability and establishes a relationship between classes where the subclass inherits characteristics of the superclass.\n",
        "\n",
        "there is 3 type of inheritance:\n",
        "1) single inheritance\n",
        "2) multiple inheritance\n",
        "3) multilevel inheritance\n"
      ],
      "metadata": {
        "id": "-HQDvimxkpBx"
      }
    },
    {
      "cell_type": "code",
      "source": [
        "#single inheritance:\n",
        "## ==> in single inheritance, a subclass inherits from only one superclass\n",
        "\n",
        "class animal:\n",
        "   def voice(self):\n",
        "    return \"voice_of_animal\"\n",
        "\n",
        "class dog(animal):\n",
        "  def bark(self):\n",
        "    return \"DOG_BARKS\"\n",
        "\n",
        "dog = dog()\n",
        "print(dog.voice())"
      ],
      "metadata": {
        "colab": {
          "base_uri": "https://localhost:8080/"
        },
        "id": "QmnxLkT6kKkV",
        "outputId": "fd0c4237-2467-45ab-aa6d-ae8ef788a7d5"
      },
      "execution_count": 17,
      "outputs": [
        {
          "output_type": "stream",
          "name": "stdout",
          "text": [
            "voice_of_animal\n"
          ]
        }
      ]
    },
    {
      "cell_type": "code",
      "source": [
        "#multiple inheritance:\n",
        "## ==> in multiple  inheritance, a superclass inherit from multiple superclass\n",
        "\n",
        "class Bird:\n",
        "    def fly(self):\n",
        "        return \"Bird flies\"\n",
        "\n",
        "class Mammal:\n",
        "    def run(self):\n",
        "        return \"Mammal runs\"\n",
        "\n",
        "class Bat(Bird, Mammal):  # Bat inherits from Bird and Mammal\n",
        "    def hang(self):\n",
        "        return \"Bat hangs\"\n",
        "\n",
        "# Creating an instance of Bat class\n",
        "bat = Bat()\n",
        "print(bat.fly())  # Output: Bird flies\n",
        "print(bat.run())  # Output: Mammal runs\n",
        "print(bat.hang()) # Output: Bat hangs\n"
      ],
      "metadata": {
        "colab": {
          "base_uri": "https://localhost:8080/"
        },
        "id": "oDwx45cPndMF",
        "outputId": "b31a5f7d-5fce-4a65-e2f0-252b094bcd13"
      },
      "execution_count": 20,
      "outputs": [
        {
          "output_type": "stream",
          "name": "stdout",
          "text": [
            "Bird flies\n",
            "Mammal runs\n",
            "Bat hangs\n"
          ]
        }
      ]
    },
    {
      "cell_type": "code",
      "source": [
        "##Multilevel Inheritance:\n",
        "##==>In multilevel inheritance, a subclass inherits from another subclass, forming a hierarchy of classes.\n",
        "\n",
        "class Animal:\n",
        "    def speak(self):\n",
        "        return \"Animal speaks\"\n",
        "\n",
        "class Dog(Animal):  # Dog inherits from Animal\n",
        "    def bark(self):\n",
        "        return \"Dog barks\"\n",
        "\n",
        "class GoldenRetriever(Dog):  # GoldenRetriever inherits from Dog\n",
        "    def play(self):\n",
        "        return \"Golden Retriever plays\"\n",
        "\n",
        "# Creating an instance of GoldenRetriever class\n",
        "golden = GoldenRetriever()\n",
        "print(golden.speak())  # Output: Animal speaks\n",
        "print(golden.bark())   # Output: Dog barks\n",
        "print(golden.play())   # Output: Golden Retriever plays\n"
      ],
      "metadata": {
        "colab": {
          "base_uri": "https://localhost:8080/"
        },
        "id": "iYKWLwtLDjWW",
        "outputId": "e2364ed4-a17a-433a-f2d8-c9b98649e3b5"
      },
      "execution_count": 21,
      "outputs": [
        {
          "output_type": "stream",
          "name": "stdout",
          "text": [
            "Animal speaks\n",
            "Dog barks\n",
            "Golden Retriever plays\n"
          ]
        }
      ]
    }
  ]
}