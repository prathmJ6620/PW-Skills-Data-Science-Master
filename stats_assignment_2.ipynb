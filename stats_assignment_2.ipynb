{
  "nbformat": 4,
  "nbformat_minor": 0,
  "metadata": {
    "colab": {
      "provenance": []
    },
    "kernelspec": {
      "name": "python3",
      "display_name": "Python 3"
    },
    "language_info": {
      "name": "python"
    }
  },
  "cells": [
    {
      "cell_type": "markdown",
      "source": [
        "#Q1. What are the three measures of central tendency?"
      ],
      "metadata": {
        "id": "sd1cekT6uho5"
      }
    },
    {
      "cell_type": "markdown",
      "source": [
        "The three measures of central tendency are:\n",
        "\n",
        "Mean: The mean is the average of a set of numbers. It is calculated by adding up all the values in the dataset and then dividing by the total number of values.\n",
        "\n",
        "Median: The median is the middle value of a dataset when the values are arranged in ascending or descending order. If there is an even number of values, the median is the average of the two middle values.\n",
        "\n",
        "Mode: The mode is the value that appears most frequently in a dataset. There can be one mode, multiple modes (if multiple values occur with the same highest frequency), or no mode if all values occur with the same frequency."
      ],
      "metadata": {
        "id": "E4rDShtQuhsB"
      }
    },
    {
      "cell_type": "markdown",
      "source": [
        "#Q2. What is the difference between the mean, median, and mode? How are they used to measure the central tendency of a dataset?"
      ],
      "metadata": {
        "id": "QqKC4qW7uhu5"
      }
    },
    {
      "cell_type": "markdown",
      "source": [
        "  The mean, median, and mode are different measures of central tendency used to describe the typical or central value of a dataset. Here's how they differ and how they're used:\n",
        "\n",
        "Mean:\n",
        "\n",
        "The mean is the average of all the values in a dataset.\n",
        "It's calculated by adding up all the values in the dataset and dividing by the total number of values.\n",
        "The mean is sensitive to outliers, meaning that extreme values can heavily influence its value.\n",
        "It's commonly used when the data is normally distributed or symmetrically distributed without significant outliers.\n",
        "Median:\n",
        "\n",
        "The median is the middle value of a dataset when the values are arranged in ascending or descending order.\n",
        "If there is an even number of values, the median is the average of the two middle values.\n",
        "The median is less affected by outliers compared to the mean, making it a more robust measure of central tendency in the presence of outliers.\n",
        "It's particularly useful when the data is skewed or contains outliers, as it provides a better representation of the central value.\n",
        "Mode:\n",
        "\n",
        "The mode is the value that appears most frequently in a dataset.\n",
        "There can be one mode, multiple modes (if multiple values occur with the same highest frequency), or no mode if all values occur with the same frequency.\n",
        "The mode is useful for categorical data or discrete data with distinct categories.\n",
        "It's also used in combination with other measures to provide a more complete description of the dataset's central tendency.\n"
      ],
      "metadata": {
        "id": "Lx7lZUfXuhx-"
      }
    },
    {
      "cell_type": "markdown",
      "source": [
        "#Q3. Measure the three measures of central tendency for the given height data:\n",
        "[178,177,176,177,178.2,178,175,179,180,175,178.9,176.2,177,172.5,178,176.5]"
      ],
      "metadata": {
        "id": "QNG_kpy8wl8i"
      }
    },
    {
      "cell_type": "code",
      "source": [
        "import numpy as np\n",
        "import statistics as stats\n",
        "\n",
        "x = [178,177,176,177,178.2,178,175,179,180,175,178.9,176.2,177,172.5,178,176.5]"
      ],
      "metadata": {
        "id": "7UAiyFB8wzJa"
      },
      "execution_count": 7,
      "outputs": []
    },
    {
      "cell_type": "code",
      "source": [
        "a=np.mean(x)\n",
        "b=np.median(x)\n",
        "c=stats.mode(x)\n",
        "\n",
        "print(\"mean is :\",a)\n",
        "print(\"Median is:\",b)\n",
        "print(\"mode is:\", c)\n"
      ],
      "metadata": {
        "colab": {
          "base_uri": "https://localhost:8080/"
        },
        "id": "-ccOnDrmw29H",
        "outputId": "3cced530-e89d-469a-d5e0-d6efb7c968c2"
      },
      "execution_count": 9,
      "outputs": [
        {
          "output_type": "stream",
          "name": "stdout",
          "text": [
            "mean is : 177.01875\n",
            "Median is: 177.0\n",
            "mode is: 178\n"
          ]
        }
      ]
    },
    {
      "cell_type": "markdown",
      "source": [
        "#Q4. Find the standard deviation for the given data:\n",
        "[178,177,176,177,178.2,178,175,179,180,175,178.9,176.2,177,172.5,178,176.5]"
      ],
      "metadata": {
        "id": "xG4Yu8wcyVC4"
      }
    },
    {
      "cell_type": "code",
      "source": [
        "y = [178,177,176,177,178.2,178,175,179,180,175,178.9,176.2,177,172.5,178,176.5]\n",
        "\n",
        "stats.stdev(y)"
      ],
      "metadata": {
        "colab": {
          "base_uri": "https://localhost:8080/"
        },
        "id": "sGPvQqSFxH5g",
        "outputId": "7e5e5f0b-2134-4ac0-9584-8380af3d39ff"
      },
      "execution_count": 10,
      "outputs": [
        {
          "output_type": "execute_result",
          "data": {
            "text/plain": [
              "1.8472389305844188"
            ]
          },
          "metadata": {},
          "execution_count": 10
        }
      ]
    },
    {
      "cell_type": "markdown",
      "source": [
        "#Q5. How are measures of dispersion such as range, variance, and standard deviation used to describe the spread of a dataset? Provide an example."
      ],
      "metadata": {
        "id": "K_MUrqDJ0pV9"
      }
    },
    {
      "cell_type": "markdown",
      "source": [
        "\n",
        "Measures of dispersion, such as range, variance, and standard deviation, provide information about the spread or variability of data points in a dataset. Here's how each of them is used and an example to illustrate:\n",
        "\n",
        "Range:\n",
        "\n",
        "The range is the simplest measure of dispersion and is calculated as the difference between the maximum and minimum values in a dataset.\n",
        "It provides a quick way to understand the spread of the data but can be influenced by extreme values.\n",
        "Formula: Range = Maximum value - Minimum value\n",
        "Example: Consider the following dataset of test scores: {65, 72, 80, 85, 90}.\n",
        "The range is calculated as follows:\n",
        "Range = Maximum value - Minimum value\n",
        "= 90 - 65\n",
        "= 25\n",
        "So, the range of the test scores is 25.\n",
        "\n",
        "Variance:\n",
        "\n",
        "Variance measures the average squared deviation of each data point from the mean of the dataset.\n",
        "It provides a more precise measure of dispersion but is sensitive to outliers.\n",
        "Formula for sample variance:\n",
        "Variance = Σ (x - x̄)² / (n - 1)\n",
        "Where Σ denotes summation, x̄ is the sample mean, x represents each individual data point, and n is the number of data points.\n",
        "Example: Using the same dataset of test scores {65, 72, 80, 85, 90}.\n",
        "First, calculate the mean:\n",
        "Mean = (65 + 72 + 80 + 85 + 90) / 5\n",
        "= 78.4\n",
        "Then, calculate the squared deviations from the mean:\n",
        "(65 - 78.4)² + (72 - 78.4)² + (80 - 78.4)² + (85 - 78.4)² + (90 - 78.4)²\n",
        "= 183.36 + 45.16 + 5.76 + 47.04 + 139.24\n",
        "= 420.56\n",
        "Finally, divide by (n - 1) to get the sample variance:\n",
        "Variance = 420.56 / 4\n",
        "≈ 105.14\n",
        "So, the variance of the test scores is approximately 105.14.\n",
        "\n",
        "Standard Deviation:\n",
        "\n",
        "Standard deviation is the square root of the variance.\n",
        "It measures the average deviation of data points from the mean and is in the same units as the original data.\n",
        "It's widely used due to its interpretability and its relationship with the normal distribution.\n",
        "Formula: Standard Deviation = √Variance\n",
        "Continuing with the previous example, the standard deviation is the square root of the variance calculated earlier:\n",
        "Standard Deviation ≈ √105.14 ≈ 10.25\n",
        "\n",
        "In summary, the range, variance, and standard deviation provide different perspectives on the spread of data in a dataset. The range gives a basic overview, while variance and standard deviation offer more detailed insights into the variability of the data points around the mean."
      ],
      "metadata": {
        "id": "9fVPsFD702a9"
      }
    },
    {
      "cell_type": "markdown",
      "source": [
        "#Q6. What is a Venn diagram?"
      ],
      "metadata": {
        "id": "Ao5mQzV902Xm"
      }
    },
    {
      "cell_type": "markdown",
      "source": [
        "A Venn diagram is a graphical representation of the relationships between different sets of items. It consists of circles, usually overlapping, that represent the sets, with each circle representing a specific category or group. Venn diagrams are often used to illustrate the similarities and differences between different groups or to visualize the intersection of multiple sets.\n",
        "\n",
        "In a Venn diagram:\n",
        "\n",
        "Each circle represents a set or category.\n",
        "Overlapping regions between circles represent elements that belong to multiple sets, illustrating the intersection of those sets.\n",
        "Non-overlapping regions represent elements that belong exclusively to one set or the other, highlighting the unique elements of each set.\n",
        "Venn diagrams are widely used in various fields, including mathematics, logic, statistics, computer science, and linguistics, to visualize relationships and help in problem-solving, decision-making, and understanding concepts related to set theory and logic.\n",
        "\n",
        "For example, a Venn diagram might be used to illustrate the relationships between different groups of people based on characteristics such as age, gender, and occupation, showing how these groups overlap or are distinct from one another."
      ],
      "metadata": {
        "id": "uFsXXAqO02VM"
      }
    },
    {
      "cell_type": "markdown",
      "source": [
        "#Q7. For the two given sets A = (2,3,4,5,6,7) & B = (0,2,6,8,10). Find:\n",
        "(i) A intersection B\n",
        "(ii) A ⋃ B"
      ],
      "metadata": {
        "id": "bYBjOP7n02St"
      }
    },
    {
      "cell_type": "markdown",
      "source": [
        "(i) A intersection B => (2,6)\n",
        "ii) (ii) A ⋃ B => (0,2,3,4,5,6,7,8,10)"
      ],
      "metadata": {
        "id": "lCJ-JRGs02QI"
      }
    },
    {
      "cell_type": "markdown",
      "source": [
        "#Q8. What do you understand about skewness in data?\n"
      ],
      "metadata": {
        "id": "H9OU5roC3TIQ"
      }
    },
    {
      "cell_type": "markdown",
      "source": [
        "Skewness in data refers to the lack of symmetry in its distribution. In a symmetric distribution, the left and right sides are mirror images of each other. However, in a skewed distribution, one tail is longer or more spread out than the other. Skewness indicates the direction and degree of asymmetry in the distribution.\n",
        "\n",
        "There are two main types of skewness:\n",
        "\n",
        "Positive Skewness (Right Skewness):\n",
        "\n",
        "Also known as right skewness, it occurs when the tail on the right side of the distribution is longer or more spread out than the left tail.\n",
        "In a positively skewed distribution, the majority of the data points are concentrated on the left side, with a few extreme values pulling the mean to the right.\n",
        "The mean is typically greater than the median in a positively skewed distribution.\n",
        "\n",
        "\n",
        "Negative Skewness (Left Skewness):\n",
        "\n",
        "Also known as left skewness, it occurs when the tail on the left side of the distribution is longer or more spread out than the right tail.\n",
        "In a negatively skewed distribution, the majority of the data points are concentrated on the right side, with a few extreme values pulling the mean to the left.\n",
        "The mean is typically less than the median in a negatively skewed distribution.\n",
        "Understanding skewness is important in data analysis because it provides insights into the shape and characteristics of the data distribution. Skewed data can affect the interpretation of statistical analyses and may require different approaches for analysis and interpretation compared to symmetric distributions. Additionally, identifying skewness can help in selecting appropriate statistical measures and techniques for data modeling and inference."
      ],
      "metadata": {
        "id": "g2ioVJl43TEv"
      }
    },
    {
      "cell_type": "markdown",
      "source": [
        "#Q9. If a data is right skewed then what will be the position of median with respect to mean?"
      ],
      "metadata": {
        "id": "w8gHGIT03TAa"
      }
    },
    {
      "cell_type": "markdown",
      "source": [
        "median is smaller than mean, mean is measurly affected by data spread on left side of distribution."
      ],
      "metadata": {
        "id": "UYR7-ab23S2R"
      }
    },
    {
      "cell_type": "markdown",
      "source": [
        "#Q10. Explain the difference between covariance and correlation. How are these measures used in statistical analysis?"
      ],
      "metadata": {
        "id": "XvV_lwKY02NW"
      }
    },
    {
      "cell_type": "markdown",
      "source": [
        "Covariance and correlation are both measures used to quantify the relationship between two variables in statistics, but they differ in terms of scale and interpretation.\n",
        "\n",
        "Covariance:\n",
        "\n",
        "Covariance measures the degree to which two variables change together. It indicates the direction of the linear relationship between two variables.\n",
        "Mathematically, the covariance between two variables\n",
        "\n",
        "Y respectively.\n",
        "The units of covariance are the product of the units of the two variables.\n",
        "Covariance can take any value, positive, negative, or zero, indicating the direction and strength of the relationship. However, it's difficult to interpret the magnitude of covariance since it is not standardized.\n",
        "Correlation:\n",
        "\n",
        "Correlation is a standardized measure of the strength and direction of the linear relationship between two variables. It is the covariance divided by the product of the standard deviations of the two variables.\n",
        "Mathematically, the correlation coefficient (\n",
        "Y is calculated as:\n",
        "where\n",
        "and\n",
        "are the standard deviations of\n",
        "\n",
        "Y respectively.\n",
        "Correlation coefficients range between -1 and 1. A correlation of 1 indicates a perfect positive linear relationship, -1 indicates a perfect negative linear relationship, and 0 indicates no linear relationship.\n",
        "Correlation coefficients are unitless, making them easier to interpret and compare across different datasets.\n",
        "In statistical analysis:\n",
        "\n",
        "Covariance is used to assess the direction of the relationship between two variables. However, due to its scale, it's not very informative on its own.\n",
        "Correlation, being standardized, is more commonly used as it provides a clearer understanding of the strength and direction of the relationship between variables.\n",
        "Both covariance and correlation are used in various statistical analyses, including regression analysis, portfolio management, signal processing, and machine learning, to understand the relationships between variables and make predictions."
      ],
      "metadata": {
        "id": "aEr5gKg08Cvn"
      }
    },
    {
      "cell_type": "markdown",
      "source": [
        "#Q11. What is the formula for calculating the sample mean? Provide an example dataset."
      ],
      "metadata": {
        "id": "N11gknuT8CsL"
      }
    },
    {
      "cell_type": "markdown",
      "source": [
        "The sample mean, often denoted by\n",
        "�\n",
        "ˉ\n",
        "x\n",
        "ˉ\n",
        " , is the average of a set of observations or data points. It's calculated by summing up all the values in the dataset and dividing by the total number of observations.\n",
        "\n",
        "Mathematically, the formula for calculating the sample mean of a dataset\n",
        "�\n",
        "1\n",
        ",\n",
        "�\n",
        "2\n",
        ",\n",
        ".\n",
        ".\n",
        ".\n",
        ",\n",
        "�\n",
        "�\n",
        "x\n",
        "1\n",
        "​\n",
        " ,x\n",
        "2\n",
        "​\n",
        " ,...,x\n",
        "n\n",
        "​\n",
        "  with\n",
        "�\n",
        "n observations is:\n",
        "\n",
        "�\n",
        "ˉ\n",
        "=\n",
        "1\n",
        "�\n",
        "∑\n",
        "�\n",
        "=\n",
        "1\n",
        "�\n",
        "�\n",
        "�\n",
        "x\n",
        "ˉ\n",
        " =\n",
        "n\n",
        "1\n",
        "​\n",
        " ∑\n",
        "i=1\n",
        "n\n",
        "​\n",
        " x\n",
        "i\n",
        "​\n",
        "\n",
        "\n",
        "Here's an example calculation:\n",
        "\n",
        "Let's say we have a dataset of exam scores: 85, 90, 88, 92, 87. To find the sample mean:\n",
        "\n",
        "�\n",
        "ˉ\n",
        "=\n",
        "1\n",
        "5\n",
        "(\n",
        "85\n",
        "+\n",
        "90\n",
        "+\n",
        "88\n",
        "+\n",
        "92\n",
        "+\n",
        "87\n",
        ")\n",
        "x\n",
        "ˉ\n",
        " =\n",
        "5\n",
        "1\n",
        "​\n",
        " (85+90+88+92+87)\n",
        "\n",
        "�\n",
        "ˉ\n",
        "=\n",
        "1\n",
        "5\n",
        "×\n",
        "442\n",
        "x\n",
        "ˉ\n",
        " =\n",
        "5\n",
        "1\n",
        "​\n",
        " ×442\n",
        "\n",
        "�\n",
        "ˉ\n",
        "=\n",
        "442\n",
        "5\n",
        "x\n",
        "ˉ\n",
        " =\n",
        "5\n",
        "442\n",
        "​\n",
        "\n",
        "\n",
        "�\n",
        "ˉ\n",
        "=\n",
        "88.4\n",
        "x\n",
        "ˉ\n",
        " =88.4\n",
        "\n",
        "So, the sample mean of this dataset is 88.4."
      ],
      "metadata": {
        "id": "mi_rCbpY8CfC"
      }
    },
    {
      "cell_type": "markdown",
      "source": [
        "#Q12. For a normal distribution data what is the relationship between its measure of central tendency?"
      ],
      "metadata": {
        "id": "mFfmVSyh8Cbh"
      }
    },
    {
      "cell_type": "markdown",
      "source": [
        "The mean, median, and mode are all equal.\n",
        "\n",
        "They are located at the center of the distribution, which is also the peak of the distribution curve."
      ],
      "metadata": {
        "id": "CwlS6UUNSXpA"
      }
    },
    {
      "cell_type": "markdown",
      "source": [
        "Covariance and correlation are both measures used to quantify the relationship between two variables, but they differ in scale, interpretation, and the information they provide about the relationship.\n",
        "\n",
        "Scale and Units:\n",
        "\n",
        "Covariance is a measure of how two variables change together. It indicates the direction of the linear relationship between the variables.\n",
        "Correlation, on the other hand, is a standardized measure of the strength and direction of the linear relationship between two variables. It's the covariance divided by the product of the standard deviations of the variables.\n",
        "Interpretation:\n",
        "\n",
        "Covariance can take any value, positive, negative, or zero, indicating the direction and strength of the relationship. However, it's difficult to interpret the magnitude of covariance since it's not standardized and depends on the scales of the variables.\n",
        "Correlation coefficients range between -1 and 1. A correlation of 1 indicates a perfect positive linear relationship, -1 indicates a perfect negative linear relationship, and 0 indicates no linear relationship. This makes correlation easier to interpret and compare across different datasets.\n",
        "Standardization:\n",
        "\n",
        "Covariance is not standardized, so comparing covariances between different pairs of variables or datasets can be challenging.\n",
        "Correlation is standardized, making it easier to compare the strength and direction of the relationship between different pairs of variables or datasets.\n",
        "Units:\n",
        "\n",
        "Covariance is expressed in the units of the variables multiplied together.\n",
        "Correlation is a unitless measure.\n",
        "In summary, while both covariance and correlation measure the relationship between two variables, correlation provides a standardized measure that is easier to interpret and compare across different datasets, whereas covariance does not. Correlation also specifically measures the linear relationship between variables, whereas covariance does not make such a distinction."
      ],
      "metadata": {
        "id": "3nAhKbaRSjld"
      }
    },
    {
      "cell_type": "markdown",
      "source": [
        "#Q14. How do outliers affect measures of central tendency and dispersion? Provide an example"
      ],
      "metadata": {
        "id": "KWf-yROGSjiG"
      }
    },
    {
      "cell_type": "markdown",
      "source": [
        "Outliers can significantly impact measures of central tendency and dispersion, potentially skewing their values and affecting the overall understanding of the data.\n",
        "\n",
        "Measures of Central Tendency:\n",
        "\n",
        "Outliers can distort measures of central tendency such as the mean, median, and mode.\n",
        "The mean is particularly sensitive to outliers because it incorporates every data point. Even one extreme value can greatly influence the mean, pulling it away from the center of the rest of the data.\n",
        "The median is less affected by outliers since it is less influenced by extreme values. However, in the presence of outliers, the median may better represent the center of the data compared to the mean.\n",
        "The mode may not be affected by outliers unless the outlier occurs with high frequency.\n",
        "Measures of Dispersion:\n",
        "\n",
        "Outliers can also impact measures of dispersion, such as the range, variance, and standard deviation.\n",
        "The range, which is the difference between the maximum and minimum values, is heavily influenced by outliers. A single outlier can greatly expand the range, making it less representative of the spread of the majority of the data.\n",
        "Variance and standard deviation are both affected by outliers because they involve calculating the differences between individual data points and the mean. Outliers can increase the variability and inflate these measures.\n",
        "Other measures of dispersion, like the interquartile range (IQR) or percentile ranges, may be less affected by outliers since they focus on the central portion of the data distribution.\n",
        "Example:\n",
        "Consider a dataset of exam scores:\n",
        "\n",
        "70\n",
        ",\n",
        "75\n",
        ",\n",
        "80\n",
        ",\n",
        "85\n",
        ",\n",
        "90\n",
        ",\n",
        "95\n",
        ",\n",
        "1000\n",
        "70,75,80,85,90,95,1000\n",
        "\n",
        "Mean:\n",
        "70\n",
        "+\n",
        "75\n",
        "+\n",
        "80\n",
        "+\n",
        "85\n",
        "+\n",
        "90\n",
        "+\n",
        "95\n",
        "+\n",
        "1000\n",
        "7\n",
        "=\n",
        "252.14\n",
        "7\n",
        "70+75+80+85+90+95+1000\n",
        "​\n",
        " =252.14 (heavily influenced by the outlier)\n",
        "Median: 85 (less affected by the outlier)\n",
        "Mode: No single mode\n",
        "Range:\n",
        "1000\n",
        "−\n",
        "70\n",
        "=\n",
        "930\n",
        "1000−70=930 (heavily influenced by the outlier)\n",
        "Variance and standard deviation: Significantly affected by the outlier, leading to higher values.\n",
        "In this example, the outlier (1000) has caused a substantial distortion in the mean, range, variance, and standard deviation, while the median remains relatively unaffected."
      ],
      "metadata": {
        "id": "lVwPZg8gSjfL"
      }
    }
  ]
}