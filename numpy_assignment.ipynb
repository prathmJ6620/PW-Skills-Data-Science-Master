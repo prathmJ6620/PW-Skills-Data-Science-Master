{
  "nbformat": 4,
  "nbformat_minor": 0,
  "metadata": {
    "colab": {
      "provenance": []
    },
    "kernelspec": {
      "name": "python3",
      "display_name": "Python 3"
    },
    "language_info": {
      "name": "python"
    }
  },
  "cells": [
    {
      "cell_type": "code",
      "execution_count": 4,
      "metadata": {
        "id": "toH7KVYJOUVv"
      },
      "outputs": [],
      "source": [
        "import numpy as np\n",
        "list_ = [ '1','2','3','4','5']\n",
        "array_list = np.array(object = list_)"
      ]
    },
    {
      "cell_type": "markdown",
      "source": [
        "#Q1. Is there any difference in the data type of variables list_ and array_list? If there is then write a code to print the data types of both the variables."
      ],
      "metadata": {
        "id": "tNVJcJd6OkFl"
      }
    },
    {
      "cell_type": "code",
      "source": [
        "print(type(list_))\n",
        "print(type(array_list))"
      ],
      "metadata": {
        "colab": {
          "base_uri": "https://localhost:8080/"
        },
        "id": "MZuCf-uBOfQc",
        "outputId": "fb5cbedb-de7e-451d-903d-c55f0d2657ff"
      },
      "execution_count": 6,
      "outputs": [
        {
          "output_type": "stream",
          "name": "stdout",
          "text": [
            "<class 'list'>\n",
            "<class 'numpy.ndarray'>\n"
          ]
        }
      ]
    },
    {
      "cell_type": "markdown",
      "source": [
        "there is difference in datatype of both variables list_ is list and array_list is array."
      ],
      "metadata": {
        "id": "XgKhZ2pVPhyf"
      }
    },
    {
      "cell_type": "markdown",
      "source": [
        "#Q2. Write a code to print the data type of each and every element of both the variables list_ and array_list."
      ],
      "metadata": {
        "id": "ltEu5BQ2QMGx"
      }
    },
    {
      "cell_type": "code",
      "source": [
        "def datatypes(lst):\n",
        "  for i in lst:\n",
        "    print(type(i))"
      ],
      "metadata": {
        "id": "diryZMyZPVL5"
      },
      "execution_count": 14,
      "outputs": []
    },
    {
      "cell_type": "code",
      "source": [
        "datatypes(list_)"
      ],
      "metadata": {
        "colab": {
          "base_uri": "https://localhost:8080/"
        },
        "id": "4LdxTZILRnaR",
        "outputId": "9205df30-ed70-4664-c19a-1a1bd9d737a1"
      },
      "execution_count": 15,
      "outputs": [
        {
          "output_type": "stream",
          "name": "stdout",
          "text": [
            "<class 'str'>\n",
            "<class 'str'>\n",
            "<class 'str'>\n",
            "<class 'str'>\n",
            "<class 'str'>\n"
          ]
        }
      ]
    },
    {
      "cell_type": "code",
      "source": [
        "datatypes(array_list)"
      ],
      "metadata": {
        "colab": {
          "base_uri": "https://localhost:8080/"
        },
        "id": "IBtb_RKLRuVu",
        "outputId": "677b4b11-2b97-4357-b22a-f3d15a213789"
      },
      "execution_count": 16,
      "outputs": [
        {
          "output_type": "stream",
          "name": "stdout",
          "text": [
            "<class 'numpy.str_'>\n",
            "<class 'numpy.str_'>\n",
            "<class 'numpy.str_'>\n",
            "<class 'numpy.str_'>\n",
            "<class 'numpy.str_'>\n"
          ]
        }
      ]
    },
    {
      "cell_type": "markdown",
      "source": [
        "#Q3. Considering the following changes in the variable, array_list:\n",
        "array_list = np.array(object = list_, dtype = int)"
      ],
      "metadata": {
        "id": "uSgVrn0XUFEB"
      }
    },
    {
      "cell_type": "code",
      "source": [
        "converted_list = [int(i) for i in list_]\n",
        "print(datatypes(converted_list))"
      ],
      "metadata": {
        "colab": {
          "base_uri": "https://localhost:8080/"
        },
        "id": "g1PEsw9MR5z5",
        "outputId": "aac176aa-8427-42d0-8acf-f096b1be0300"
      },
      "execution_count": 19,
      "outputs": [
        {
          "output_type": "stream",
          "name": "stdout",
          "text": [
            "<class 'int'>\n",
            "<class 'int'>\n",
            "<class 'int'>\n",
            "<class 'int'>\n",
            "<class 'int'>\n",
            "None\n"
          ]
        }
      ]
    },
    {
      "cell_type": "code",
      "source": [
        "num_list = [ [ 1 , 2 , 3 ] , [ 4 , 5 , 6 ] ]\n",
        "num_array = np.array(object = num_list)"
      ],
      "metadata": {
        "id": "-sAn4I27VYU9"
      },
      "execution_count": 20,
      "outputs": []
    },
    {
      "cell_type": "markdown",
      "source": [
        "#Q4. Write a code to find the following characteristics of variable, num_array:\n",
        "(i) shape\n",
        "(ii) size"
      ],
      "metadata": {
        "id": "C4GWbmL1Va3V"
      }
    },
    {
      "cell_type": "code",
      "source": [
        "print(np.shape(num_array))\n",
        "print(np.size(num_array))"
      ],
      "metadata": {
        "colab": {
          "base_uri": "https://localhost:8080/"
        },
        "id": "vriA0LdDVZo6",
        "outputId": "289c0fe9-be49-43bd-a5ef-4251a34bfa0d"
      },
      "execution_count": 26,
      "outputs": [
        {
          "output_type": "stream",
          "name": "stdout",
          "text": [
            "(2, 3)\n",
            "6\n"
          ]
        }
      ]
    },
    {
      "cell_type": "markdown",
      "source": [
        "#Q5. Write a code to create numpy array of 3*3 matrix containing zeros only, using a numpy array creation function.[Hint: The size of the array will be 9 and the shape will be (3,3).]"
      ],
      "metadata": {
        "id": "wd_wk1t-V9Yl"
      }
    },
    {
      "cell_type": "code",
      "source": [
        "zeros_matrix = np.zeros((3,3))\n",
        "zeros_matrix"
      ],
      "metadata": {
        "colab": {
          "base_uri": "https://localhost:8080/"
        },
        "id": "ojYVEXVRV89p",
        "outputId": "0961f9a2-475c-4c15-b5c0-3f9fe2549867"
      },
      "execution_count": 29,
      "outputs": [
        {
          "output_type": "execute_result",
          "data": {
            "text/plain": [
              "array([[0., 0., 0.],\n",
              "       [0., 0., 0.],\n",
              "       [0., 0., 0.]])"
            ]
          },
          "metadata": {},
          "execution_count": 29
        }
      ]
    },
    {
      "cell_type": "markdown",
      "source": [
        "#Q6. Create an identity matrix of shape (5,5) using numpy functions?\n",
        "[Hint: An identity matrix is a matrix containing 1 diagonally and other elements will be 0.]"
      ],
      "metadata": {
        "id": "Rif_jG3-Xvac"
      }
    },
    {
      "cell_type": "code",
      "source": [
        "identity_matrix = np.eye(5)\n",
        "print(identity_matrix)"
      ],
      "metadata": {
        "colab": {
          "base_uri": "https://localhost:8080/"
        },
        "id": "dBs5mz6LVg9F",
        "outputId": "eb5b5327-edd6-45eb-e685-6211db33d18e"
      },
      "execution_count": 30,
      "outputs": [
        {
          "output_type": "stream",
          "name": "stdout",
          "text": [
            "[[1. 0. 0. 0. 0.]\n",
            " [0. 1. 0. 0. 0.]\n",
            " [0. 0. 1. 0. 0.]\n",
            " [0. 0. 0. 1. 0.]\n",
            " [0. 0. 0. 0. 1.]]\n"
          ]
        }
      ]
    }
  ]
}