{
  "nbformat": 4,
  "nbformat_minor": 0,
  "metadata": {
    "colab": {
      "provenance": []
    },
    "kernelspec": {
      "name": "python3",
      "display_name": "Python 3"
    },
    "language_info": {
      "name": "python"
    }
  },
  "cells": [
    {
      "cell_type": "markdown",
      "source": [
        "##Q1 Create a vehicle class with an init method having instance variables as name_of_vehicle, max_speed and average_of_vehicle."
      ],
      "metadata": {
        "id": "63AX4ri_JrjA"
      }
    },
    {
      "cell_type": "code",
      "source": [
        "class vehicle:\n",
        "  def __init__(self,name_of_vehicle,max_speed,average_of_vehicle):\n",
        "    self.name_of_vehicle = name_of_vehicle\n",
        "    self.max_speed = max_speed\n",
        "    self.average_of_vehicle = average_of_vehicle\n",
        "\n",
        "car = vehicle('BMW',277,8)\n",
        "\n",
        "print(\"name of vehicle: \",car.name_of_vehicle)\n",
        "print(\"max speed: \", car.max_speed)\n",
        "print(\"average of vehicle is: \",car.average_of_vehicle)\n"
      ],
      "metadata": {
        "colab": {
          "base_uri": "https://localhost:8080/"
        },
        "id": "Qbnoej9tKB2X",
        "outputId": "a58cd52e-4a0d-4007-8968-e743b3e41b4b"
      },
      "execution_count": 2,
      "outputs": [
        {
          "output_type": "stream",
          "name": "stdout",
          "text": [
            "name of vehicle:  BMW\n",
            "max speed:  277\n",
            "average of vehicle is:  8\n"
          ]
        }
      ]
    },
    {
      "cell_type": "markdown",
      "source": [
        "##Q2. Create a child class car from the vehicle class created in Que 1, which will inherit the vehicle class. Create a method named seating_capacity which takes capacity as an argument and returns the name of the vehicle and its seating capacity."
      ],
      "metadata": {
        "id": "mM8fXVhQL-mD"
      }
    },
    {
      "cell_type": "code",
      "source": [
        "class Vehicle:\n",
        "    def __init__(self, name_of_vehicle, max_speed, average_of_vehicle):\n",
        "        self.name_of_vehicle = name_of_vehicle\n",
        "        self.max_speed = max_speed\n",
        "        self.average_of_vehicle = average_of_vehicle\n",
        "\n",
        "class Car(Vehicle):\n",
        "    def seating_capacity(self, capacity):\n",
        "        return f\"The {self.name_of_vehicle} has a seating capacity of {capacity}.\"\n",
        "\n",
        "# Creating an instance of the Car class\n",
        "car1 = Car(\"Car\", 200, 30)\n",
        "\n",
        "# Calling the seating_capacity method\n",
        "print(car1.seating_capacity(5))\n"
      ],
      "metadata": {
        "colab": {
          "base_uri": "https://localhost:8080/"
        },
        "id": "e5R-R3UFMDW0",
        "outputId": "d1b35513-710b-4187-e349-3885589743fe"
      },
      "execution_count": 8,
      "outputs": [
        {
          "output_type": "stream",
          "name": "stdout",
          "text": [
            "The Car has a seating capacity of 5.\n"
          ]
        }
      ]
    },
    {
      "cell_type": "markdown",
      "source": [
        "##Q3. What is multiple inheritance? Write a python code to demonstrate multiple inheritance."
      ],
      "metadata": {
        "id": "1DPZPfmnN58v"
      }
    },
    {
      "cell_type": "code",
      "source": [
        "class Bird:\n",
        "    def fly(self):\n",
        "        return \"Bird flies\"\n",
        "\n",
        "class Mammal:\n",
        "    def run(self):\n",
        "        return \"Mammal runs\"\n",
        "\n",
        "class Bat(Bird, Mammal):  # Bat inherits from Bird and Mammal\n",
        "    def hang(self):\n",
        "        return \"Bat hangs\"\n",
        "\n",
        "# Creating an instance of Bat class\n",
        "bat = Bat()\n",
        "print(bat.fly())  # Output: Bird flies\n",
        "print(bat.run())  # Output: Mammal runs\n",
        "print(bat.hang()) # Output: Bat hangs\n"
      ],
      "metadata": {
        "colab": {
          "base_uri": "https://localhost:8080/"
        },
        "id": "zZEXHfFfNWTf",
        "outputId": "27f712be-e52d-4e06-fd4a-0da59b5fda82"
      },
      "execution_count": 9,
      "outputs": [
        {
          "output_type": "stream",
          "name": "stdout",
          "text": [
            "Bird flies\n",
            "Mammal runs\n",
            "Bat hangs\n"
          ]
        }
      ]
    },
    {
      "cell_type": "markdown",
      "source": [
        "##Q4. What are getter and setter in python? Create a class and create a getter and a setter method in this class."
      ],
      "metadata": {
        "id": "AzpqMkauPNyy"
      }
    },
    {
      "cell_type": "markdown",
      "source": [
        "In Python, getters and setters are methods used to access and modify the values of class attributes, providing controlled access to them. They are commonly used to implement encapsulation and ensure data integrity by validating input before setting or getting attribute values.\n",
        "\n",
        "Here's an example class Person with a private attribute _age, along with getter and setter methods for age:"
      ],
      "metadata": {
        "id": "rPd8g0RUPu39"
      }
    },
    {
      "cell_type": "code",
      "source": [
        "class Person:\n",
        "    def __init__(self, name, age):\n",
        "        self._name = name\n",
        "        self._age = age\n",
        "\n",
        "    def get_age(self):\n",
        "        return self._age\n",
        "\n",
        "    def set_age(self, age):\n",
        "        if isinstance(age, int) and age >= 0:\n",
        "            self._age = age\n",
        "        else:\n",
        "            print(\"Invalid age value. Age must be a non-negative integer.\")\n",
        "\n",
        "# Creating an instance of the Person class\n",
        "person1 = Person(\"Alice\", 30)\n",
        "\n",
        "# Accessing age using getter method\n",
        "print(\"Original age:\", person1.get_age())  # Output: Original age: 30\n",
        "\n",
        "# Setting age using setter method\n",
        "person1.set_age(35)\n",
        "\n",
        "# Accessing age after modification\n",
        "print(\"Updated age:\", person1.get_age())  # Output: Updated age: 35\n",
        "\n",
        "# Trying to set age with invalid value\n",
        "person1.set_age(-5)  # Output: Invalid age value. Age must be a non-negative integer.\n",
        "\n",
        "# Accessing age after unsuccessful modification\n",
        "print(\"Age after unsuccessful modification:\", person1.get_age())  # Output: Age after unsuccessful modification: 35\n"
      ],
      "metadata": {
        "colab": {
          "base_uri": "https://localhost:8080/"
        },
        "id": "F5jZS8pqPhmj",
        "outputId": "b3013442-2358-4c2f-f51d-4fddeb6fef4a"
      },
      "execution_count": 10,
      "outputs": [
        {
          "output_type": "stream",
          "name": "stdout",
          "text": [
            "Original age: 30\n",
            "Updated age: 35\n",
            "Invalid age value. Age must be a non-negative integer.\n",
            "Age after unsuccessful modification: 35\n"
          ]
        }
      ]
    },
    {
      "cell_type": "markdown",
      "source": [
        "##Q5.What is method overriding in python? Write a python code to demonstrate method overriding."
      ],
      "metadata": {
        "id": "O4o1juStQYhh"
      }
    },
    {
      "cell_type": "code",
      "source": [
        "class Animal:\n",
        "    def sound(self):\n",
        "        return \"Animal makes a sound\"\n",
        "\n",
        "class Dog(Animal):\n",
        "    def sound(self):\n",
        "        return \"Dog barks\"\n",
        "\n",
        "class Cat(Animal):\n",
        "    def sound(self):\n",
        "        return \"Cat meows\"\n",
        "\n",
        "# Creating instances of subclasses\n",
        "dog = Dog()\n",
        "cat = Cat()\n",
        "\n",
        "# Calling the overridden methods\n",
        "print(dog.sound())  # Output: Dog barks\n",
        "print(cat.sound())  # Output: Cat meows\n"
      ],
      "metadata": {
        "colab": {
          "base_uri": "https://localhost:8080/"
        },
        "id": "dwQhzEClQlSy",
        "outputId": "741f2708-7db6-4ee9-ca13-446f8dc4db46"
      },
      "execution_count": 12,
      "outputs": [
        {
          "output_type": "stream",
          "name": "stdout",
          "text": [
            "Dog barks\n",
            "Cat meows\n"
          ]
        }
      ]
    }
  ]
}