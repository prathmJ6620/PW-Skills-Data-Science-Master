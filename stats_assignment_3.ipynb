{
  "nbformat": 4,
  "nbformat_minor": 0,
  "metadata": {
    "colab": {
      "provenance": []
    },
    "kernelspec": {
      "name": "python3",
      "display_name": "Python 3"
    },
    "language_info": {
      "name": "python"
    }
  },
  "cells": [
    {
      "cell_type": "markdown",
      "source": [
        "#Q1. What is the Probability density function?"
      ],
      "metadata": {
        "id": "UBuIFF8zp6yZ"
      }
    },
    {
      "cell_type": "markdown",
      "source": [
        "\n",
        "A probability density function (PDF) describes the likelihood of a continuous random variable taking on specific values within a given range. It's a function\n",
        "�\n",
        "(\n",
        "�\n",
        ")\n",
        "f(x) where\n",
        "�\n",
        "x represents possible values. The PDF doesn't give direct probabilities but shows relative likelihoods. It's non-negative for all\n",
        "�\n",
        "x, and the total area under the curve is 1. It's used to find probabilities for intervals by integrating over those intervals. Examples include the normal distribution, uniform distribution, and exponential distribution."
      ],
      "metadata": {
        "id": "QW0rFayrp61S"
      }
    },
    {
      "cell_type": "markdown",
      "source": [
        "#Q2. What are the types of Probability distribution?"
      ],
      "metadata": {
        "id": "vcId4ylBp64H"
      }
    },
    {
      "cell_type": "markdown",
      "source": [
        "\n",
        "There are several types of probability distributions, but they can broadly be categorized into two main groups: discrete probability distributions and continuous probability distributions.\n",
        "\n",
        "Discrete Probability Distributions:\n",
        "\n",
        "Probability Mass Function (PMF): Describes the probability distribution of a discrete random variable. Examples include the binomial distribution, Poisson distribution, and geometric distribution.\n",
        "Continuous Probability Distributions:\n",
        "\n",
        "Probability Density Function (PDF): Describes the probability distribution of a continuous random variable. Examples include the normal (Gaussian) distribution, uniform distribution, exponential distribution, and beta distribution.\n",
        "These distributions are fundamental in probability theory and statistics, and they are used to model various phenomena in different fields such as science, engineering, finance, and economics."
      ],
      "metadata": {
        "id": "KdR6CEsup66z"
      }
    },
    {
      "cell_type": "markdown",
      "source": [
        "#Q3. Write a Python function to calculate the probability density function of a normal distribution with given mean and standard deviation at a given point."
      ],
      "metadata": {
        "id": "eZ7A-q7qq0kI"
      }
    },
    {
      "cell_type": "code",
      "source": [
        "from scipy.stats import norm\n",
        "\n",
        "def normal_pdf(x, mean, std_dev):\n",
        "    \"\"\"\n",
        "    Calculate the probability density function (PDF) of a normal distribution\n",
        "    at a given point x with a specified mean and standard deviation.\n",
        "\n",
        "    Parameters:\n",
        "    - x: Point at which to calculate the PDF.\n",
        "    - mean: Mean of the normal distribution.\n",
        "    - std_dev: Standard deviation of the normal distribution.\n",
        "\n",
        "    Returns:\n",
        "    - pdf: Probability density function value at point x.\n",
        "    \"\"\"\n",
        "    pdf = norm.pdf(x, loc=mean, scale=std_dev)\n",
        "    return pdf\n",
        "\n",
        "# Example usage:\n",
        "mean = 0\n",
        "std_dev = 1\n",
        "x = 1\n",
        "pdf_value = normal_pdf(x, mean, std_dev)\n",
        "print(\"PDF at x =\", x, \":\", pdf_value)\n"
      ],
      "metadata": {
        "colab": {
          "base_uri": "https://localhost:8080/"
        },
        "id": "u3yL5W8Zq92Z",
        "outputId": "79f07f36-a2b3-45db-ec15-295f047c20a5"
      },
      "execution_count": 1,
      "outputs": [
        {
          "output_type": "stream",
          "name": "stdout",
          "text": [
            "PDF at x = 1 : 0.24197072451914337\n"
          ]
        }
      ]
    },
    {
      "cell_type": "markdown",
      "source": [
        "#Q4. What are the properties of Binomial distribution? Give two examples of events where binomial distribution can be applied."
      ],
      "metadata": {
        "id": "pjGSPc30p69f"
      }
    },
    {
      "cell_type": "markdown",
      "source": [
        "The Binomial distribution is characterized by the following properties:\n",
        "\n",
        "Fixed number of trials (n): Each experiment or trial consists of a fixed number of independent trials, denoted by\n",
        "�\n",
        "n.\n",
        "\n",
        "Independent trials: Each trial is independent of the others, meaning the outcome of one trial does not affect the outcome of another.\n",
        "\n",
        "Two outcomes: Each trial results in one of two possible outcomes, typically referred to as success (usually denoted by\n",
        "�\n",
        "S) and failure (denoted by\n",
        "�\n",
        "F).\n",
        "\n",
        "Constant probability of success (p): The probability of success (denoted by\n",
        "�\n",
        "p) remains constant from trial to trial.\n",
        "\n",
        "Discrete outcome: The number of successes in\n",
        "�\n",
        "n trials is a discrete random variable, ranging from 0 to\n",
        "�\n",
        "n.\n",
        "\n",
        "Examples of events where the Binomial distribution can be applied include:\n",
        "\n",
        "Coin flipping: Consider flipping a fair coin (with equal probability of getting heads or tails) 10 times. The number of heads obtained in these 10 flips follows a Binomial distribution with parameters\n",
        "�\n",
        "=\n",
        "10\n",
        "n=10 (number of trials) and\n",
        "�\n",
        "=\n",
        "0.5\n",
        "p=0.5 (probability of success).\n",
        "\n",
        "Quality control: Suppose a factory produces light bulbs, and each bulb has a 95% chance of passing the quality control test. If 100 bulbs are randomly selected from a batch, the number of bulbs that pass the test follows a Binomial distribution with parameters\n",
        "�\n",
        "=\n",
        "100\n",
        "n=100 (number of trials) and\n",
        "�\n",
        "=\n",
        "0.95\n",
        "p=0.95 (probability of success).\n",
        "\n",
        "\n",
        "\n",
        "\n",
        "\n",
        "\n"
      ],
      "metadata": {
        "id": "RwEunefKp7AT"
      }
    },
    {
      "cell_type": "markdown",
      "source": [
        "#Q5. Generate a random sample of size 1000 from a binomial distribution with probability of success 0.4 and plot a histogram of the results using matplotlib."
      ],
      "metadata": {
        "id": "VFSZFTLOp7DP"
      }
    },
    {
      "cell_type": "code",
      "source": [
        "import numpy as np\n",
        "import matplotlib.pyplot as plt\n",
        "\n",
        "# Parameters\n",
        "n = 1000  # Sample size\n",
        "p = 0.4   # Probability of success\n",
        "\n",
        "# Generate random sample from binomial distribution\n",
        "sample = np.random.binomial(n, p, size=n)\n",
        "\n",
        "# Plot histogram\n",
        "plt.hist(sample, bins=20, color='skyblue', edgecolor='black', alpha=0.7)\n",
        "plt.title('Histogram of Binomial Distribution')\n",
        "plt.xlabel('Number of Successes')\n",
        "plt.ylabel('Frequency')\n",
        "plt.grid(True)\n",
        "plt.show()\n"
      ],
      "metadata": {
        "colab": {
          "base_uri": "https://localhost:8080/",
          "height": 472
        },
        "id": "Vi4S6q2mss6_",
        "outputId": "62791afd-dcae-4bb1-fecf-abe760890f54"
      },
      "execution_count": 2,
      "outputs": [
        {
          "output_type": "display_data",
          "data": {
            "text/plain": [
              "<Figure size 640x480 with 1 Axes>"
            ],
            "image/png": "[encoded data removed]"
          },
          "metadata": {}
        }
      ]
    },
    {
      "cell_type": "markdown",
      "source": [
        "#Q6. Write a Python function to calculate the cumulative distribution function of a Poisson distribution with given mean at a given point."
      ],
      "metadata": {
        "id": "vxHVQ3BWp7Gw"
      }
    },
    {
      "cell_type": "code",
      "source": [
        "from scipy.stats import poisson\n",
        "\n",
        "def poisson_cdf(k, mean):\n",
        "    \"\"\"\n",
        "    Calculate the cumulative distribution function (CDF) of a Poisson distribution\n",
        "    at a given point k with a specified mean.\n",
        "\n",
        "    Parameters:\n",
        "    - k: Point at which to calculate the CDF.\n",
        "    - mean: Mean of the Poisson distribution.\n",
        "\n",
        "    Returns:\n",
        "    - cdf: Cumulative distribution function value at point k.\n",
        "    \"\"\"\n",
        "    cdf = poisson.cdf(k, mu=mean)\n",
        "    return cdf\n",
        "\n",
        "# Example usage:\n",
        "mean = 3\n",
        "k = 2\n",
        "cdf_value = poisson_cdf(k, mean)\n",
        "print(\"CDF at k =\", k, \":\", cdf_value)\n"
      ],
      "metadata": {
        "colab": {
          "base_uri": "https://localhost:8080/"
        },
        "id": "831LBvHAtGBu",
        "outputId": "439df94c-3733-49d4-d655-15f9af87addd"
      },
      "execution_count": 3,
      "outputs": [
        {
          "output_type": "stream",
          "name": "stdout",
          "text": [
            "CDF at k = 2 : 0.42319008112684364\n"
          ]
        }
      ]
    },
    {
      "cell_type": "markdown",
      "source": [
        "#Q7. How Binomial distribution different from Poisson distribution?"
      ],
      "metadata": {
        "id": "XH19C8E3tfRp"
      }
    },
    {
      "cell_type": "markdown",
      "source": [
        "Binomial and Poisson distributions are both used to model the number of occurrences of events, but they are applied in different scenarios and have different characteristics:\n",
        "\n",
        "Number of Trials:\n",
        "\n",
        "Binomial Distribution: The number of trials, denoted by\n",
        "�\n",
        "n, is fixed and known in advance.\n",
        "Poisson Distribution: The number of trials is not fixed; it is typically large or infinite.\n",
        "Probability of Success:\n",
        "\n",
        "Binomial Distribution: Each trial has a constant probability of success, denoted by\n",
        "�\n",
        "p.\n",
        "Poisson Distribution: There is no notion of success or failure; it is solely based on the average rate of occurrence, denoted by\n",
        "�\n",
        "λ.\n",
        "Nature of Events:\n",
        "\n",
        "Binomial Distribution: Suitable for situations where events occur over a fixed number of trials with a constant probability of success, such as coin flips or pass/fail experiments.\n",
        "Poisson Distribution: Suitable for situations where events occur randomly in time or space with a constant average rate, such as the number of phone calls received in a call center per hour or the number of defects in a fixed area.\n",
        "Range of Values:\n",
        "\n",
        "Binomial Distribution: The number of occurrences can range from 0 to the total number of trials\n",
        "�\n",
        "n.\n",
        "Poisson Distribution: The number of occurrences can range from 0 to infinity.\n",
        "Shape of Distribution:\n",
        "\n",
        "Binomial Distribution: The shape of the distribution becomes more symmetrical as\n",
        "�\n",
        "n increases and\n",
        "�\n",
        "p approaches 0.5.\n",
        "Poisson Distribution: The shape of the distribution becomes more symmetrical as\n",
        "�\n",
        "λ increases.\n",
        "In summary, while both distributions deal with counting the number of occurrences, the Binomial distribution is used when the number of trials is fixed and there is a constant probability of success, whereas the Poisson distribution is used when events occur randomly in time or space with a constant average rate."
      ],
      "metadata": {
        "id": "Kn05xG9utfU_"
      }
    },
    {
      "cell_type": "markdown",
      "source": [
        "#Q8. Generate a random sample of size 1000 from a Poisson distribution with mean 5 and calculate the sample mean and variance."
      ],
      "metadata": {
        "id": "uNGcsHaLuSpO"
      }
    },
    {
      "cell_type": "code",
      "source": [
        "import numpy as np\n",
        "\n",
        "# Parameters\n",
        "mean = 5   # Mean of the Poisson distribution\n",
        "size = 1000  # Sample size\n",
        "\n",
        "# Generate random sample from Poisson distribution\n",
        "sample = np.random.poisson(mean, size=size)\n",
        "\n",
        "# Calculate sample mean and variance\n",
        "sample_mean = np.mean(sample)\n",
        "sample_variance = np.var(sample)\n",
        "\n",
        "print(\"Sample Mean:\", sample_mean)\n",
        "print(\"Sample Variance:\", sample_variance)\n"
      ],
      "metadata": {
        "colab": {
          "base_uri": "https://localhost:8080/"
        },
        "id": "1DIdhWz3usjB",
        "outputId": "08c30309-7c90-4050-b76d-f8d75162b943"
      },
      "execution_count": 4,
      "outputs": [
        {
          "output_type": "stream",
          "name": "stdout",
          "text": [
            "Sample Mean: 4.992\n",
            "Sample Variance: 4.9559359999999995\n"
          ]
        }
      ]
    },
    {
      "cell_type": "markdown",
      "source": [
        "#Q9. How mean and variance are related in Binomial distribution and Poisson distribution?"
      ],
      "metadata": {
        "id": "P0fK_TIYuSsM"
      }
    },
    {
      "cell_type": "markdown",
      "source": [
        "\n",
        "In both the Binomial and Poisson distributions, the mean (\n",
        "�\n",
        "μ) and variance (\n",
        "�\n",
        "2\n",
        "σ\n",
        "2\n",
        " ) are related, but the nature of this relationship differs between the two distributions.\n",
        "\n",
        "Binomial Distribution:\n",
        "For a Binomial distribution with parameters\n",
        "�\n",
        "n (number of trials) and\n",
        "�\n",
        "p (probability of success), the mean (\n",
        "�\n",
        "μ) and variance (\n",
        "�\n",
        "2\n",
        "σ\n",
        "2\n",
        " ) are related as follows:\n",
        "�\n",
        "=\n",
        "�\n",
        "�\n",
        "μ=np\n",
        "�\n",
        "2\n",
        "=\n",
        "�\n",
        "�\n",
        "(\n",
        "1\n",
        "−\n",
        "�\n",
        ")\n",
        "σ\n",
        "2\n",
        " =np(1−p)\n",
        "\n",
        "In other words, the mean of a Binomial distribution is equal to the product of the number of trials (\n",
        "�\n",
        "n) and the probability of success (\n",
        "�\n",
        "p), and the variance is equal to the product of\n",
        "�\n",
        "�\n",
        "np and\n",
        "1\n",
        "−\n",
        "�\n",
        "1−p.\n",
        "\n",
        "Poisson Distribution:\n",
        "For a Poisson distribution with parameter\n",
        "�\n",
        "λ (average rate or mean), the mean (\n",
        "�\n",
        "μ) and variance (\n",
        "�\n",
        "2\n",
        "σ\n",
        "2\n",
        " ) are related as follows:\n",
        "�\n",
        "=\n",
        "�\n",
        "μ=λ\n",
        "�\n",
        "2\n",
        "=\n",
        "�\n",
        "σ\n",
        "2\n",
        " =λ\n",
        "\n",
        "In a Poisson distribution, the mean and variance are equal and are both equal to the parameter\n",
        "�\n",
        "λ."
      ],
      "metadata": {
        "id": "oK5mT-KfuSvk"
      }
    },
    {
      "cell_type": "markdown",
      "source": [
        "#Q10. In normal distribution with respect to mean position, where does the least frequent data appear?"
      ],
      "metadata": {
        "id": "lPv6BqKivmlJ"
      }
    },
    {
      "cell_type": "markdown",
      "source": [
        "\n",
        "In a normal distribution, also known as a Gaussian distribution, the least frequent data points appear at the tails of the distribution, farthest away from the mean.\n",
        "\n",
        "Since the normal distribution is symmetric around its mean, the data points that are furthest from the mean on both sides (i.e., the tails) have the lowest frequency. These tails extend infinitely in both directions from the mean.\n",
        "\n",
        "Specifically, the least frequent data points appear in the extreme tails of the distribution, where the values are many standard deviations away from the mean. This is because the normal distribution's density decreases rapidly as you move away from the mean towards the tails.\n",
        "\n",
        "In standard normal distribution, which has a mean of 0 and a standard deviation of 1, the least frequent data points appear in the tails beyond approximately ±3 standard deviations from the mean."
      ],
      "metadata": {
        "id": "Xo6rcAjtvmnf"
      }
    },
    {
      "cell_type": "markdown",
      "source": [],
      "metadata": {
        "id": "zfVC7KnAvmrE"
      }
    }
  ]
}