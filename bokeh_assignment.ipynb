{
  "nbformat": 4,
  "nbformat_minor": 0,
  "metadata": {
    "colab": {
      "provenance": []
    },
    "kernelspec": {
      "name": "python3",
      "display_name": "Python 3"
    },
    "language_info": {
      "name": "python"
    }
  },
  "cells": [
    {
      "cell_type": "markdown",
      "source": [
        "##Q1. How can you create a Bokeh plot using Python code?"
      ],
      "metadata": {
        "id": "bg3IaM0r6IO4"
      }
    },
    {
      "cell_type": "markdown",
      "source": [
        "\n",
        "To create a Bokeh plot using Python code, you need to follow these general steps:\n",
        "\n",
        "Import the necessary modules from the Bokeh library.\n",
        "Prepare your data.\n",
        "Create a figure object using the figure() function.\n",
        "Add glyphs (visual markers) to the figure to represent your data, such as circles, lines, or bars.\n",
        "Customize the plot by setting attributes like title, axis labels, and plot dimensions.\n",
        "Show or save the plot using the show() or save() function.\n"
      ],
      "metadata": {
        "id": "x6nWtvDP6N4q"
      }
    },
    {
      "cell_type": "code",
      "execution_count": 7,
      "metadata": {
        "id": "YpV3wGu755Ma"
      },
      "outputs": [],
      "source": [
        "from bokeh.plotting import figure, output_file, show\n",
        "\n",
        "# Prepare data\n",
        "x = [1, 2, 3, 4, 5]\n",
        "y = [6, 7, 2, 4, 5]\n",
        "\n",
        "# Output to a static HTML file\n",
        "output_file(\"scatter.html\")\n",
        "\n",
        "# Create a new plot with a title and axis labels\n",
        "p = figure(title=\"Simple Scatter Plot\", x_axis_label='x', y_axis_label='y')\n",
        "\n",
        "# Add a circle glyph to the plot\n",
        "p.circle(x, y, size=10, color=\"navy\", alpha=0.5)\n",
        "\n",
        "# Show the plot\n",
        "show(p)\n"
      ]
    },
    {
      "cell_type": "markdown",
      "source": [
        "##Q2. What are glyphs in Bokeh, and how can you add them to a Bokeh plot? Explain with an example."
      ],
      "metadata": {
        "id": "I5F8wSG06sVp"
      }
    },
    {
      "cell_type": "code",
      "source": [
        "from bokeh.plotting import figure, output_file, show\n",
        "\n",
        "# Prepare data\n",
        "x = [1, 2, 3, 4, 5]\n",
        "y = [6, 7, 2, 4, 5]\n",
        "\n",
        "# Output to a static HTML file\n",
        "output_file(\"glyphs.html\")\n",
        "\n",
        "# Create a new plot with a title and axis labels\n",
        "p = figure(title=\"Glyphs Example\", x_axis_label='x', y_axis_label='y')\n",
        "\n",
        "# Add circle glyphs to the plot\n",
        "p.circle(x, y, size=10, color=\"navy\", alpha=0.5)\n",
        "\n",
        "# Add square glyphs to the plot\n",
        "p.square(x, y, size=12, color=\"firebrick\", alpha=0.7)\n",
        "\n",
        "# Add triangle glyphs to the plot\n",
        "p.triangle(x, y, size=8, color=\"green\", alpha=0.8)\n",
        "\n",
        "# Show the plot\n",
        "show(p)\n"
      ],
      "metadata": {
        "id": "pr-BvSg97I7a"
      },
      "execution_count": 9,
      "outputs": []
    },
    {
      "cell_type": "markdown",
      "source": [
        "##Q3. How can you customize the appearance of a Bokeh plot, including the axes, title, and legend?"
      ],
      "metadata": {
        "id": "-wmT62ss7RiE"
      }
    },
    {
      "cell_type": "code",
      "source": [
        "from bokeh.plotting import figure, output_file, show\n",
        "from bokeh.models import Legend\n",
        "\n",
        "# Prepare data\n",
        "x = [1, 2, 3, 4, 5]\n",
        "y = [6, 7, 2, 4, 5]\n",
        "\n",
        "# Output to a static HTML file\n",
        "output_file(\"custom_plot.html\")\n",
        "\n",
        "# Create a new plot\n",
        "p = figure(title=\"Customized Bokeh Plot\",\n",
        "           x_axis_label='X-axis', y_axis_label='Y-axis',\n",
        "           width=600, height=400,\n",
        "           background_fill_color='lightgray', border_fill_color='white')\n",
        "\n",
        "# Add circle glyphs to the plot\n",
        "circle_renderer = p.circle(x, y, size=10, color=\"navy\", alpha=0.5, legend_label='Data Points')\n",
        "\n",
        "# Customize axes properties\n",
        "p.title.text_color = 'blue'\n",
        "p.xaxis.axis_label_text_font_style = 'italic'\n",
        "p.yaxis.axis_label_text_font_style = 'italic'\n",
        "p.xaxis.major_label_text_color = 'blue'\n",
        "p.yaxis.major_label_text_color = 'green'\n",
        "\n",
        "# Customize legend properties\n",
        "p.legend.label_text_font_size = '12pt'\n",
        "p.legend.location = 'top_right'\n",
        "\n",
        "# Add a custom legend\n",
        "legend = Legend(items=[(\"Data Points\", [circle_renderer])], location=\"center\")\n",
        "p.add_layout(legend, 'right')\n",
        "\n",
        "# Show the plot\n",
        "show(p)\n"
      ],
      "metadata": {
        "id": "aXDC2cIr7Vxu"
      },
      "execution_count": 12,
      "outputs": []
    },
    {
      "cell_type": "markdown",
      "source": [
        "##Q4. What is a Bokeh server, and how can you use it to create interactive plots that can be updated in real time?"
      ],
      "metadata": {
        "id": "mkAu5Z8H71e_"
      }
    },
    {
      "cell_type": "code",
      "source": [
        "# myapp.py\n",
        "from bokeh.plotting import curdoc, figure\n",
        "from bokeh.models import ColumnDataSource\n",
        "import numpy as np\n",
        "\n",
        "# Create initial data\n",
        "x = np.linspace(0, 2*np.pi, 100)\n",
        "y = np.sin(x)\n",
        "source = ColumnDataSource(data={'x': x, 'y': y})\n",
        "\n",
        "# Create a plot\n",
        "plot = figure(title=\"Real-time Sine Wave\", plot_height=300, plot_width=600)\n",
        "plot.line('x', 'y', source=source, line_width=2)\n",
        "\n",
        "# Define a callback function to update the plot data\n",
        "def update_data():\n",
        "    new_y = np.sin(x + float(curdoc().session_context.request.arguments.get('update')[0].decode()))\n",
        "    source.data = {'x': x, 'y': new_y}\n",
        "\n",
        "# Add the callback to the document\n",
        "curdoc().add_periodic_callback(update_data, 100)\n",
        "\n",
        "# Add the plot to the document\n",
        "curdoc().add_root(plot)\n"
      ],
      "metadata": {
        "id": "-YkU5MXd8HvX"
      },
      "execution_count": null,
      "outputs": []
    },
    {
      "cell_type": "markdown",
      "source": [
        "##Q5. How can you embed a Bokeh plot into a web page or dashboard using Flask or Django?"
      ],
      "metadata": {
        "id": "0sQl_b5K8qkb"
      }
    },
    {
      "cell_type": "markdown",
      "source": [
        "To embed a Bokeh plot into a web page or dashboard using Flask or Django, you need to follow these general steps:\n",
        "\n",
        "Create the Bokeh Plot: First, create your Bokeh plot using Bokeh's plotting functions, as you normally would.\n",
        "Export the Plot as HTML: Bokeh provides a bokeh.embed module that includes functions to export Bokeh plots as standalone HTML files or components.\n",
        "Integrate with Flask or Django:\n",
        "For Flask: You can render the Bokeh plot in a Flask route function and pass the HTML content to the template using Jinja2 templating.\n",
        "For Django: You can similarly render the Bokeh plot in a Django view function and pass the HTML content to the template using Django's templating engine.\n",
        "Render the Web Page: In your Flask or Django template, you can include the HTML content of the Bokeh plot using the appropriate templating syntax."
      ],
      "metadata": {
        "id": "Nb_sbJuo8Yny"
      }
    },
    {
      "cell_type": "code",
      "source": [],
      "metadata": {
        "id": "ZUy8Ze7C8pvI"
      },
      "execution_count": null,
      "outputs": []
    }
  ]
}