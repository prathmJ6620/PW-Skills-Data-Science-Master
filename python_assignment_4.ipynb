{
  "nbformat": 4,
  "nbformat_minor": 0,
  "metadata": {
    "colab": {
      "provenance": []
    },
    "kernelspec": {
      "name": "python3",
      "display_name": "Python 3"
    },
    "language_info": {
      "name": "python"
    }
  },
  "cells": [
    {
      "cell_type": "markdown",
      "source": [
        "#Q1. Create a python program to sort the given list of tuples based on integer value using a lambda function.\n",
        "[('Sachin Tendulkar', 34357), ('Ricky Ponting', 27483), ('Jack Kallis', 25534), ('Virat Kohli', 24936)]"
      ],
      "metadata": {
        "id": "CGlJs-HZ6xTU"
      }
    },
    {
      "cell_type": "code",
      "execution_count": 1,
      "metadata": {
        "id": "evMWAxFh6tKv"
      },
      "outputs": [],
      "source": [
        "l = [('Sachin Tendulkar', 34357), ('Ricky Ponting', 27483), ('Jack Kallis', 25534), ('Virat Kohli', 24936)]"
      ]
    },
    {
      "cell_type": "code",
      "source": [
        "data = [('Sachin Tendulkar', 34357), ('Ricky Ponting', 27483), ('Jack Kallis', 25534), ('Virat Kohli', 24936)]\n",
        "\n",
        "sorted_data = sorted(data, key=lambda x: x[1])\n",
        "\n",
        "print(sorted_data)\n"
      ],
      "metadata": {
        "colab": {
          "base_uri": "https://localhost:8080/"
        },
        "id": "dCaTgXKd6vea",
        "outputId": "aaf5d32f-6e27-4e8b-be7b-6bc7038c7a8e"
      },
      "execution_count": 2,
      "outputs": [
        {
          "output_type": "stream",
          "name": "stdout",
          "text": [
            "[('Virat Kohli', 24936), ('Jack Kallis', 25534), ('Ricky Ponting', 27483), ('Sachin Tendulkar', 34357)]\n"
          ]
        }
      ]
    },
    {
      "cell_type": "markdown",
      "source": [
        "##Q2. Write a Python Program to find the squares of all the numbers in the given list of integers using lambda and map functions.\n",
        "[1, 2, 3, 4, 5, 6, 7, 8, 9, 10]"
      ],
      "metadata": {
        "id": "CwCd5xRh_bed"
      }
    },
    {
      "cell_type": "code",
      "source": [
        "m = [1, 2, 3, 4, 5, 6, 7, 8, 9, 10]\n",
        "\n",
        "sqr = list(map(lambda x: x**2, m))\n",
        "print(sqr)"
      ],
      "metadata": {
        "colab": {
          "base_uri": "https://localhost:8080/"
        },
        "id": "iWUaRyl_6teG",
        "outputId": "f3325823-55a2-45e4-f424-1fffa4c3ab46"
      },
      "execution_count": 7,
      "outputs": [
        {
          "output_type": "stream",
          "name": "stdout",
          "text": [
            "[1, 4, 9, 16, 25, 36, 49, 64, 81, 100]\n"
          ]
        }
      ]
    },
    {
      "cell_type": "markdown",
      "source": [
        "##Q3. Write a python program to convert the given list of integers into a tuple of strings. Use map and lambda functions Given String: [1, 2, 3, 4, 5, 6, 7, 8, 9, 10]"
      ],
      "metadata": {
        "id": "sc53U2NTAt9Z"
      }
    },
    {
      "cell_type": "code",
      "source": [
        "p = [1, 2, 3, 4, 5, 6, 7, 8, 9, 10]\n",
        "\n",
        "tup_str = tuple(map(lambda x: str(x),p))\n",
        "print(tup_str)"
      ],
      "metadata": {
        "colab": {
          "base_uri": "https://localhost:8080/"
        },
        "id": "6a5hm7-f_mL8",
        "outputId": "b3300b76-6fbc-4252-a2d5-cbdade19d4ed"
      },
      "execution_count": 10,
      "outputs": [
        {
          "output_type": "stream",
          "name": "stdout",
          "text": [
            "('1', '2', '3', '4', '5', '6', '7', '8', '9', '10')\n"
          ]
        }
      ]
    },
    {
      "cell_type": "markdown",
      "source": [
        "##Q4. Write a python program using reduce function to compute the product of a list containing numbers from 1 to 25."
      ],
      "metadata": {
        "id": "DgEGT6MQBLEm"
      }
    },
    {
      "cell_type": "code",
      "source": [
        "from functools import reduce\n",
        "\n",
        "# Define the list containing numbers from 1 to 25\n",
        "numbers = list(range(1, 26))\n",
        "\n",
        "# Use reduce function to compute the product of the numbers\n",
        "product = reduce(lambda x, y: x * y, numbers)\n",
        "\n",
        "# Print the product\n",
        "print(\"Product of numbers from 1 to 25:\", product)\n"
      ],
      "metadata": {
        "colab": {
          "base_uri": "https://localhost:8080/"
        },
        "id": "Y9FdAiKFBd7d",
        "outputId": "0d21f78a-627d-45db-ad21-a259793a5baa"
      },
      "execution_count": 18,
      "outputs": [
        {
          "output_type": "stream",
          "name": "stdout",
          "text": [
            "Product of numbers from 1 to 25: 15511210043330985984000000\n"
          ]
        }
      ]
    },
    {
      "cell_type": "markdown",
      "source": [
        "###Q5. Write a python program to filter the numbers in a given list that are divisible by 2 and 3 using the filter function.\n",
        "[2, 3, 6, 9, 27, 60, 90, 120, 55, 46]"
      ],
      "metadata": {
        "id": "g57OS6saDDaW"
      }
    },
    {
      "cell_type": "code",
      "source": [
        "# Given list of numbers\n",
        "numbers = [2, 3, 6, 9, 27, 60, 90, 120, 55, 46]\n",
        "\n",
        "# Use filter function to filter numbers divisible by 2 and 3\n",
        "filtered_numbers = filter(lambda x: x % 2 == 0 and x % 3 == 0, numbers)\n",
        "\n",
        "# Convert the filtered result into a list and print it\n",
        "print(list(filtered_numbers))\n"
      ],
      "metadata": {
        "colab": {
          "base_uri": "https://localhost:8080/"
        },
        "id": "3YSGzm4YBoD3",
        "outputId": "72d788e9-39c8-4002-898c-22f8d76cdef9"
      },
      "execution_count": 19,
      "outputs": [
        {
          "output_type": "stream",
          "name": "stdout",
          "text": [
            "[6, 60, 90, 120]\n"
          ]
        }
      ]
    },
    {
      "cell_type": "markdown",
      "source": [
        "##Q6. Write a python program to find palindromes in the given list of strings using lambda and filter function.\n",
        "['python', 'php', 'aba', 'radar', 'level']"
      ],
      "metadata": {
        "id": "m0TnZeIMDcPv"
      }
    },
    {
      "cell_type": "code",
      "source": [
        "# Given list of strings\n",
        "strings = ['python', 'php', 'aba', 'radar', 'level']\n",
        "\n",
        "# Use filter function with lambda function to filter palindromes\n",
        "palindromes = filter(lambda x: x == x[::-1], strings)\n",
        "\n",
        "# Convert the filtered result into a list and print it\n",
        "print(list(palindromes))\n"
      ],
      "metadata": {
        "colab": {
          "base_uri": "https://localhost:8080/"
        },
        "id": "k60REHcxDJi7",
        "outputId": "9080c301-7007-4b15-edf5-f269e271fa45"
      },
      "execution_count": 20,
      "outputs": [
        {
          "output_type": "stream",
          "name": "stdout",
          "text": [
            "['php', 'aba', 'radar', 'level']\n"
          ]
        }
      ]
    },
    {
      "cell_type": "code",
      "source": [],
      "metadata": {
        "id": "jhAJjifMDj3R"
      },
      "execution_count": null,
      "outputs": []
    }
  ]
}