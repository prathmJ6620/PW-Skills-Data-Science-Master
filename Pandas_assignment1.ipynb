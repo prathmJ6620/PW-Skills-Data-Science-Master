{
  "nbformat": 4,
  "nbformat_minor": 0,
  "metadata": {
    "colab": {
      "provenance": []
    },
    "kernelspec": {
      "name": "python3",
      "display_name": "Python 3"
    },
    "language_info": {
      "name": "python"
    }
  },
  "cells": [
    {
      "cell_type": "markdown",
      "source": [
        "##Q1. Create a Pandas Series that contains the following data: 4, 8, 15, 16, 23, and 42. Then, print the series."
      ],
      "metadata": {
        "id": "Anwa1sOmB6Mv"
      }
    },
    {
      "cell_type": "code",
      "source": [
        "import pandas as pd\n",
        "pj = pd.Series([4,8,15,16,23,42])\n",
        "print(pj)"
      ],
      "metadata": {
        "colab": {
          "base_uri": "https://localhost:8080/"
        },
        "id": "xdh5GxO8B_Lf",
        "outputId": "2b9447be-339c-4c12-bc67-c8779d3ebc34"
      },
      "execution_count": 2,
      "outputs": [
        {
          "output_type": "stream",
          "name": "stdout",
          "text": [
            "0     4\n",
            "1     8\n",
            "2    15\n",
            "3    16\n",
            "4    23\n",
            "5    42\n",
            "dtype: int64\n"
          ]
        }
      ]
    },
    {
      "cell_type": "code",
      "source": [
        "##Q2. Create a variable of list type containing 10 elements in it, and apply pandas.Series function on the variable print it."
      ],
      "metadata": {
        "id": "JfjXemFiCQJG"
      },
      "execution_count": 3,
      "outputs": []
    },
    {
      "cell_type": "code",
      "source": [
        "my_list = list(range(1,11))\n",
        "list1 = pd.Series(my_list)\n",
        "print(list1)"
      ],
      "metadata": {
        "colab": {
          "base_uri": "https://localhost:8080/"
        },
        "id": "23dgCFguDJiV",
        "outputId": "384dc706-0999-4152-c7b7-11b153a2f24e"
      },
      "execution_count": 4,
      "outputs": [
        {
          "output_type": "stream",
          "name": "stdout",
          "text": [
            "0     1\n",
            "1     2\n",
            "2     3\n",
            "3     4\n",
            "4     5\n",
            "5     6\n",
            "6     7\n",
            "7     8\n",
            "8     9\n",
            "9    10\n",
            "dtype: int64\n"
          ]
        }
      ]
    },
    {
      "cell_type": "markdown",
      "source": [
        "Q3. Create a Pandas DataFrame that contains the following data:\n",
        "\n",
        "Then, print the DataFrame."
      ],
      "metadata": {
        "id": "IsiUGOTkDYt5"
      }
    },
    {
      "cell_type": "code",
      "source": [
        "df ={'name' : ['Alice','Bob','Claire'],\n",
        "     'age' : [25, 30, 27],\n",
        "     'gender' : ['female','male','female']\n",
        "     }\n",
        "df1 = pd.DataFrame(df)\n",
        "print(df1)"
      ],
      "metadata": {
        "colab": {
          "base_uri": "https://localhost:8080/"
        },
        "id": "qySpHv22DaS1",
        "outputId": "2a6c085a-5212-45d1-d785-58b742997093"
      },
      "execution_count": 9,
      "outputs": [
        {
          "output_type": "stream",
          "name": "stdout",
          "text": [
            "     name  age  gender\n",
            "0   Alice   25  female\n",
            "1     Bob   30    male\n",
            "2  Claire   27  female\n"
          ]
        }
      ]
    },
    {
      "cell_type": "markdown",
      "source": [
        "##Q4. What is ‘DataFrame’ in pandas and how is it different from pandas.series? Explain with an example."
      ],
      "metadata": {
        "id": "IIy48OaGG18j"
      }
    },
    {
      "cell_type": "markdown",
      "source": [
        "In pandas, a DataFrame is a two-dimensional, size-mutable, and heterogeneous data structure that consists of rows and columns. It is similar to a spreadsheet or a table in a relational database. Each column in a DataFrame is a pandas Series.\n",
        "\n",
        "A pandas Series, on the other hand, is a one-dimensional labeled array capable of holding data of any type (integer, float, string, etc.). It is essentially a single column of data with associated labels, known as the index."
      ],
      "metadata": {
        "id": "-lqLxbPzHFiJ"
      }
    },
    {
      "cell_type": "code",
      "source": [
        "import pandas as pd\n",
        "\n",
        "# Example DataFrame\n",
        "data = {\n",
        "    'Name': ['Alice', 'Bob', 'Charlie'],\n",
        "    'Age': [25, 30, 35],\n",
        "    'City': ['New York', 'Los Angeles', 'Chicago']\n",
        "}\n",
        "\n",
        "df = pd.DataFrame(data)\n",
        "\n",
        "# Example Series\n",
        "name_series = df['Name']\n",
        "\n",
        "print(\"DataFrame:\")\n",
        "print(df)\n",
        "print(\"\\nSeries:\")\n",
        "print(name_series)\n"
      ],
      "metadata": {
        "colab": {
          "base_uri": "https://localhost:8080/"
        },
        "id": "og51G4hRHGKz",
        "outputId": "005cb8de-548d-4792-9e96-0dc2cddf02c6"
      },
      "execution_count": 10,
      "outputs": [
        {
          "output_type": "stream",
          "name": "stdout",
          "text": [
            "DataFrame:\n",
            "      Name  Age         City\n",
            "0    Alice   25     New York\n",
            "1      Bob   30  Los Angeles\n",
            "2  Charlie   35      Chicago\n",
            "\n",
            "Series:\n",
            "0      Alice\n",
            "1        Bob\n",
            "2    Charlie\n",
            "Name: Name, dtype: object\n"
          ]
        }
      ]
    },
    {
      "cell_type": "markdown",
      "source": [
        "##Q5. What are some common functions you can use to manipulate data in a Pandas DataFrame? Can you give an example of when you might use one of these functions?"
      ],
      "metadata": {
        "id": "rOew9lwzHk-C"
      }
    },
    {
      "cell_type": "markdown",
      "source": [
        "\n",
        "head() and tail(): These functions are used to view the first or last few rows of a DataFrame, respectively. They are helpful for quickly inspecting the structure and contents of a DataFrame.\n",
        "\n",
        "info(): This function provides a concise summary of a DataFrame, including the data types of each column, the number of non-null values, and memory usage. It's useful for understanding the overall structure of your data.\n",
        "\n",
        "describe(): This function generates descriptive statistics for numerical columns in a DataFrame, such as count, mean, standard deviation, minimum, and maximum values. It provides insights into the distribution and central tendency of the data.\n",
        "\n",
        "loc[] and iloc[]: These functions are used for accessing rows and columns by label (loc[]) or integer index (iloc[]). They allow you to select specific subsets of data from a DataFrame based on row and column labels or positions.\n",
        "\n",
        "drop(): This function is used to remove rows or columns from a DataFrame based on labels or positions. It allows you to clean or filter your data by eliminating irrelevant or redundant information.\n",
        "\n",
        "fillna(): This function is used to fill missing values (NaNs) in a DataFrame with specified values or methods, such as a constant value, the mean, or the median. It helps to handle missing data effectively.\n",
        "\n",
        "groupby() and agg(): These functions are used for grouping and aggregating data in a DataFrame. groupby() groups the data based on one or more columns, while agg() computes aggregate functions (e.g., sum, mean, count) on the grouped data.\n",
        "\n",
        "merge() and concat(): These functions are used for combining multiple DataFrames into a single DataFrame. merge() performs database-style join operations based on common columns, while concat() concatenates DataFrames along a specified axis.\n",
        "\n",
        "pivot_table(): This function creates a spreadsheet-style pivot table from a DataFrame, allowing you to summarize and analyze data by grouping it into rows and columns.\n",
        "\n",
        "apply(): This function applies a function along an axis of a DataFrame. It allows you to perform custom transformations on your data, such as applying a user-defined function to each row or column."
      ],
      "metadata": {
        "id": "ofK0uCtuIDrx"
      }
    },
    {
      "cell_type": "markdown",
      "source": [
        "##Q6. Which of the following is mutable in nature Series, DataFrame, Panel?"
      ],
      "metadata": {
        "id": "72l_Vyz9JULK"
      }
    },
    {
      "cell_type": "markdown",
      "source": [
        "Series: Mutable. You can modify the values within a Series after it has been created.\n",
        "\n",
        "DataFrame: Mutable. You can add or remove columns, modify values within cells, or append rows to a DataFrame.\n",
        "\n",
        "Panel: Immutable. The Panel data structure has been deprecated in pandas and is not recommended for use. However, if we consider it, Panels are not mutable. Once created, you cannot modify the data within a Panel directly. Instead, you would typically create a new Panel with the desired modifications."
      ],
      "metadata": {
        "id": "Iuu029c7JfTI"
      }
    },
    {
      "cell_type": "markdown",
      "source": [
        "##Q7. Create a DataFrame using multiple Series. Explain with an example."
      ],
      "metadata": {
        "id": "uG3L2DtUJjoQ"
      }
    },
    {
      "cell_type": "code",
      "source": [
        "import pandas as pd\n",
        "\n",
        "# Creating multiple Series\n",
        "names = pd.Series(['Alice', 'Bob', 'Charlie'])\n",
        "ages = pd.Series([25, 30, 35])\n",
        "cities = pd.Series(['New York', 'Los Angeles', 'Chicago'])\n",
        "\n",
        "# Creating a DataFrame using the Series\n",
        "data = {\n",
        "    'Name': names,\n",
        "    'Age': ages,\n",
        "    'City': cities\n",
        "}\n",
        "\n",
        "df = pd.DataFrame(data)\n",
        "\n",
        "# Displaying the DataFrame\n",
        "print(df)\n"
      ],
      "metadata": {
        "colab": {
          "base_uri": "https://localhost:8080/"
        },
        "id": "QyeM9T-fJlp6",
        "outputId": "33572227-9ccf-45d4-d849-036dc6c1ccd5"
      },
      "execution_count": 13,
      "outputs": [
        {
          "output_type": "stream",
          "name": "stdout",
          "text": [
            "      Name  Age         City\n",
            "0    Alice   25     New York\n",
            "1      Bob   30  Los Angeles\n",
            "2  Charlie   35      Chicago\n"
          ]
        }
      ]
    },
    {
      "cell_type": "code",
      "source": [],
      "metadata": {
        "id": "5aoKUluMJ2cV"
      },
      "execution_count": null,
      "outputs": []
    }
  ]
}